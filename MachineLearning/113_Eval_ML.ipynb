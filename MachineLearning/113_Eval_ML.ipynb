{
 "cells": [
  {
   "cell_type": "code",
   "execution_count": 1,
   "metadata": {},
   "outputs": [],
   "source": [
    "# import dependencies\n",
    "import pandas as pd\n",
    "import numpy as np\n",
    "import warnings\n",
    "from sklearn.model_selection import cross_val_score, train_test_split\n",
    "from sklearn.ensemble import RandomForestClassifier, VotingClassifier\n",
    "from sklearn.linear_model import LogisticRegression\n",
    "from sklearn.naive_bayes import GaussianNB\n",
    "from sklearn.svm import SVC\n",
    "from sklearn.metrics import confusion_matrix, classification_report\n",
    "\n",
    "warnings.filterwarnings(\"ignore\")"
   ]
  },
  {
   "cell_type": "code",
   "execution_count": 2,
   "metadata": {},
   "outputs": [
    {
     "data": {
      "text/html": [
       "<div>\n",
       "<style scoped>\n",
       "    .dataframe tbody tr th:only-of-type {\n",
       "        vertical-align: middle;\n",
       "    }\n",
       "\n",
       "    .dataframe tbody tr th {\n",
       "        vertical-align: top;\n",
       "    }\n",
       "\n",
       "    .dataframe thead th {\n",
       "        text-align: right;\n",
       "    }\n",
       "</style>\n",
       "<table border=\"1\" class=\"dataframe\">\n",
       "  <thead>\n",
       "    <tr style=\"text-align: right;\">\n",
       "      <th></th>\n",
       "      <th>term_1953</th>\n",
       "      <th>term_1960</th>\n",
       "      <th>term_1962</th>\n",
       "      <th>term_1965</th>\n",
       "      <th>term_1968</th>\n",
       "      <th>term_1972</th>\n",
       "      <th>term_1973</th>\n",
       "      <th>term_1977</th>\n",
       "      <th>term_1984</th>\n",
       "      <th>term_1987</th>\n",
       "      <th>...</th>\n",
       "      <th>lawType_3</th>\n",
       "      <th>lawType_4</th>\n",
       "      <th>lawType_5</th>\n",
       "      <th>lawType_6</th>\n",
       "      <th>lawType_8</th>\n",
       "      <th>lawType_9</th>\n",
       "      <th>precedentAlteration_0</th>\n",
       "      <th>precedentAlteration_1</th>\n",
       "      <th>direction</th>\n",
       "      <th>justice</th>\n",
       "    </tr>\n",
       "  </thead>\n",
       "  <tbody>\n",
       "    <tr>\n",
       "      <th>13806</th>\n",
       "      <td>0</td>\n",
       "      <td>0</td>\n",
       "      <td>0</td>\n",
       "      <td>0</td>\n",
       "      <td>0</td>\n",
       "      <td>0</td>\n",
       "      <td>0</td>\n",
       "      <td>0</td>\n",
       "      <td>0</td>\n",
       "      <td>0</td>\n",
       "      <td>...</td>\n",
       "      <td>0</td>\n",
       "      <td>0</td>\n",
       "      <td>0</td>\n",
       "      <td>0</td>\n",
       "      <td>0</td>\n",
       "      <td>0</td>\n",
       "      <td>1</td>\n",
       "      <td>0</td>\n",
       "      <td>2</td>\n",
       "      <td>113</td>\n",
       "    </tr>\n",
       "    <tr>\n",
       "      <th>13815</th>\n",
       "      <td>0</td>\n",
       "      <td>0</td>\n",
       "      <td>0</td>\n",
       "      <td>0</td>\n",
       "      <td>0</td>\n",
       "      <td>0</td>\n",
       "      <td>0</td>\n",
       "      <td>0</td>\n",
       "      <td>0</td>\n",
       "      <td>0</td>\n",
       "      <td>...</td>\n",
       "      <td>0</td>\n",
       "      <td>0</td>\n",
       "      <td>0</td>\n",
       "      <td>0</td>\n",
       "      <td>0</td>\n",
       "      <td>1</td>\n",
       "      <td>1</td>\n",
       "      <td>0</td>\n",
       "      <td>1</td>\n",
       "      <td>113</td>\n",
       "    </tr>\n",
       "    <tr>\n",
       "      <th>13823</th>\n",
       "      <td>0</td>\n",
       "      <td>0</td>\n",
       "      <td>0</td>\n",
       "      <td>0</td>\n",
       "      <td>0</td>\n",
       "      <td>0</td>\n",
       "      <td>0</td>\n",
       "      <td>0</td>\n",
       "      <td>0</td>\n",
       "      <td>0</td>\n",
       "      <td>...</td>\n",
       "      <td>0</td>\n",
       "      <td>0</td>\n",
       "      <td>0</td>\n",
       "      <td>0</td>\n",
       "      <td>0</td>\n",
       "      <td>0</td>\n",
       "      <td>1</td>\n",
       "      <td>0</td>\n",
       "      <td>2</td>\n",
       "      <td>113</td>\n",
       "    </tr>\n",
       "    <tr>\n",
       "      <th>13832</th>\n",
       "      <td>0</td>\n",
       "      <td>0</td>\n",
       "      <td>0</td>\n",
       "      <td>0</td>\n",
       "      <td>0</td>\n",
       "      <td>0</td>\n",
       "      <td>0</td>\n",
       "      <td>0</td>\n",
       "      <td>0</td>\n",
       "      <td>0</td>\n",
       "      <td>...</td>\n",
       "      <td>0</td>\n",
       "      <td>0</td>\n",
       "      <td>0</td>\n",
       "      <td>1</td>\n",
       "      <td>0</td>\n",
       "      <td>0</td>\n",
       "      <td>1</td>\n",
       "      <td>0</td>\n",
       "      <td>2</td>\n",
       "      <td>113</td>\n",
       "    </tr>\n",
       "    <tr>\n",
       "      <th>13841</th>\n",
       "      <td>0</td>\n",
       "      <td>0</td>\n",
       "      <td>0</td>\n",
       "      <td>0</td>\n",
       "      <td>0</td>\n",
       "      <td>0</td>\n",
       "      <td>0</td>\n",
       "      <td>0</td>\n",
       "      <td>0</td>\n",
       "      <td>0</td>\n",
       "      <td>...</td>\n",
       "      <td>0</td>\n",
       "      <td>0</td>\n",
       "      <td>0</td>\n",
       "      <td>1</td>\n",
       "      <td>0</td>\n",
       "      <td>0</td>\n",
       "      <td>1</td>\n",
       "      <td>0</td>\n",
       "      <td>1</td>\n",
       "      <td>113</td>\n",
       "    </tr>\n",
       "  </tbody>\n",
       "</table>\n",
       "<p>5 rows × 122 columns</p>\n",
       "</div>"
      ],
      "text/plain": [
       "       term_1953  term_1960  term_1962  term_1965  term_1968  term_1972  \\\n",
       "13806          0          0          0          0          0          0   \n",
       "13815          0          0          0          0          0          0   \n",
       "13823          0          0          0          0          0          0   \n",
       "13832          0          0          0          0          0          0   \n",
       "13841          0          0          0          0          0          0   \n",
       "\n",
       "       term_1973  term_1977  term_1984  term_1987   ...     lawType_3  \\\n",
       "13806          0          0          0          0   ...             0   \n",
       "13815          0          0          0          0   ...             0   \n",
       "13823          0          0          0          0   ...             0   \n",
       "13832          0          0          0          0   ...             0   \n",
       "13841          0          0          0          0   ...             0   \n",
       "\n",
       "       lawType_4  lawType_5  lawType_6  lawType_8  lawType_9  \\\n",
       "13806          0          0          0          0          0   \n",
       "13815          0          0          0          0          1   \n",
       "13823          0          0          0          0          0   \n",
       "13832          0          0          1          0          0   \n",
       "13841          0          0          1          0          0   \n",
       "\n",
       "       precedentAlteration_0  precedentAlteration_1  direction  justice  \n",
       "13806                      1                      0          2      113  \n",
       "13815                      1                      0          1      113  \n",
       "13823                      1                      0          2      113  \n",
       "13832                      1                      0          2      113  \n",
       "13841                      1                      0          1      113  \n",
       "\n",
       "[5 rows x 122 columns]"
      ]
     },
     "execution_count": 2,
     "metadata": {},
     "output_type": "execute_result"
    }
   ],
   "source": [
    "scotus_df = pd.read_csv(\"../Resources/SCOTUS_OHEncoded.csv\", index_col=0)\n",
    "df_113 = scotus_df[scotus_df[\"justice\"] == 113]\n",
    "df_113.tail()"
   ]
  },
  {
   "cell_type": "code",
   "execution_count": 3,
   "metadata": {},
   "outputs": [],
   "source": [
    "target_113 = df_113[\"direction\"]\n",
    "target_names = [\"conservative\", \"liberal\"]"
   ]
  },
  {
   "cell_type": "code",
   "execution_count": 4,
   "metadata": {},
   "outputs": [
    {
     "data": {
      "text/html": [
       "<div>\n",
       "<style scoped>\n",
       "    .dataframe tbody tr th:only-of-type {\n",
       "        vertical-align: middle;\n",
       "    }\n",
       "\n",
       "    .dataframe tbody tr th {\n",
       "        vertical-align: top;\n",
       "    }\n",
       "\n",
       "    .dataframe thead th {\n",
       "        text-align: right;\n",
       "    }\n",
       "</style>\n",
       "<table border=\"1\" class=\"dataframe\">\n",
       "  <thead>\n",
       "    <tr style=\"text-align: right;\">\n",
       "      <th></th>\n",
       "      <th>term_1953</th>\n",
       "      <th>term_1960</th>\n",
       "      <th>term_1962</th>\n",
       "      <th>term_1965</th>\n",
       "      <th>term_1968</th>\n",
       "      <th>term_1972</th>\n",
       "      <th>term_1973</th>\n",
       "      <th>term_1977</th>\n",
       "      <th>term_1984</th>\n",
       "      <th>term_1987</th>\n",
       "      <th>...</th>\n",
       "      <th>lawType_1</th>\n",
       "      <th>lawType_2</th>\n",
       "      <th>lawType_3</th>\n",
       "      <th>lawType_4</th>\n",
       "      <th>lawType_5</th>\n",
       "      <th>lawType_6</th>\n",
       "      <th>lawType_8</th>\n",
       "      <th>lawType_9</th>\n",
       "      <th>precedentAlteration_0</th>\n",
       "      <th>precedentAlteration_1</th>\n",
       "    </tr>\n",
       "  </thead>\n",
       "  <tbody>\n",
       "    <tr>\n",
       "      <th>8475</th>\n",
       "      <td>0</td>\n",
       "      <td>0</td>\n",
       "      <td>0</td>\n",
       "      <td>0</td>\n",
       "      <td>0</td>\n",
       "      <td>0</td>\n",
       "      <td>0</td>\n",
       "      <td>0</td>\n",
       "      <td>0</td>\n",
       "      <td>0</td>\n",
       "      <td>...</td>\n",
       "      <td>0</td>\n",
       "      <td>0</td>\n",
       "      <td>0</td>\n",
       "      <td>0</td>\n",
       "      <td>0</td>\n",
       "      <td>1</td>\n",
       "      <td>0</td>\n",
       "      <td>0</td>\n",
       "      <td>1</td>\n",
       "      <td>0</td>\n",
       "    </tr>\n",
       "    <tr>\n",
       "      <th>8482</th>\n",
       "      <td>0</td>\n",
       "      <td>0</td>\n",
       "      <td>0</td>\n",
       "      <td>0</td>\n",
       "      <td>0</td>\n",
       "      <td>0</td>\n",
       "      <td>0</td>\n",
       "      <td>0</td>\n",
       "      <td>0</td>\n",
       "      <td>0</td>\n",
       "      <td>...</td>\n",
       "      <td>1</td>\n",
       "      <td>0</td>\n",
       "      <td>0</td>\n",
       "      <td>0</td>\n",
       "      <td>0</td>\n",
       "      <td>0</td>\n",
       "      <td>0</td>\n",
       "      <td>0</td>\n",
       "      <td>1</td>\n",
       "      <td>0</td>\n",
       "    </tr>\n",
       "    <tr>\n",
       "      <th>8489</th>\n",
       "      <td>0</td>\n",
       "      <td>0</td>\n",
       "      <td>0</td>\n",
       "      <td>0</td>\n",
       "      <td>0</td>\n",
       "      <td>0</td>\n",
       "      <td>0</td>\n",
       "      <td>0</td>\n",
       "      <td>0</td>\n",
       "      <td>0</td>\n",
       "      <td>...</td>\n",
       "      <td>0</td>\n",
       "      <td>0</td>\n",
       "      <td>1</td>\n",
       "      <td>0</td>\n",
       "      <td>0</td>\n",
       "      <td>0</td>\n",
       "      <td>0</td>\n",
       "      <td>0</td>\n",
       "      <td>1</td>\n",
       "      <td>0</td>\n",
       "    </tr>\n",
       "    <tr>\n",
       "      <th>8495</th>\n",
       "      <td>0</td>\n",
       "      <td>0</td>\n",
       "      <td>0</td>\n",
       "      <td>0</td>\n",
       "      <td>0</td>\n",
       "      <td>0</td>\n",
       "      <td>0</td>\n",
       "      <td>0</td>\n",
       "      <td>0</td>\n",
       "      <td>0</td>\n",
       "      <td>...</td>\n",
       "      <td>0</td>\n",
       "      <td>0</td>\n",
       "      <td>1</td>\n",
       "      <td>0</td>\n",
       "      <td>0</td>\n",
       "      <td>0</td>\n",
       "      <td>0</td>\n",
       "      <td>0</td>\n",
       "      <td>1</td>\n",
       "      <td>0</td>\n",
       "    </tr>\n",
       "    <tr>\n",
       "      <th>8502</th>\n",
       "      <td>0</td>\n",
       "      <td>0</td>\n",
       "      <td>0</td>\n",
       "      <td>0</td>\n",
       "      <td>0</td>\n",
       "      <td>0</td>\n",
       "      <td>0</td>\n",
       "      <td>0</td>\n",
       "      <td>0</td>\n",
       "      <td>0</td>\n",
       "      <td>...</td>\n",
       "      <td>0</td>\n",
       "      <td>1</td>\n",
       "      <td>0</td>\n",
       "      <td>0</td>\n",
       "      <td>0</td>\n",
       "      <td>0</td>\n",
       "      <td>0</td>\n",
       "      <td>0</td>\n",
       "      <td>1</td>\n",
       "      <td>0</td>\n",
       "    </tr>\n",
       "  </tbody>\n",
       "</table>\n",
       "<p>5 rows × 120 columns</p>\n",
       "</div>"
      ],
      "text/plain": [
       "      term_1953  term_1960  term_1962  term_1965  term_1968  term_1972  \\\n",
       "8475          0          0          0          0          0          0   \n",
       "8482          0          0          0          0          0          0   \n",
       "8489          0          0          0          0          0          0   \n",
       "8495          0          0          0          0          0          0   \n",
       "8502          0          0          0          0          0          0   \n",
       "\n",
       "      term_1973  term_1977  term_1984  term_1987          ...            \\\n",
       "8475          0          0          0          0          ...             \n",
       "8482          0          0          0          0          ...             \n",
       "8489          0          0          0          0          ...             \n",
       "8495          0          0          0          0          ...             \n",
       "8502          0          0          0          0          ...             \n",
       "\n",
       "      lawType_1  lawType_2  lawType_3  lawType_4  lawType_5  lawType_6  \\\n",
       "8475          0          0          0          0          0          1   \n",
       "8482          1          0          0          0          0          0   \n",
       "8489          0          0          1          0          0          0   \n",
       "8495          0          0          1          0          0          0   \n",
       "8502          0          1          0          0          0          0   \n",
       "\n",
       "      lawType_8  lawType_9  precedentAlteration_0  precedentAlteration_1  \n",
       "8475          0          0                      1                      0  \n",
       "8482          0          0                      1                      0  \n",
       "8489          0          0                      1                      0  \n",
       "8495          0          0                      1                      0  \n",
       "8502          0          0                      1                      0  \n",
       "\n",
       "[5 rows x 120 columns]"
      ]
     },
     "execution_count": 4,
     "metadata": {},
     "output_type": "execute_result"
    }
   ],
   "source": [
    "data_113 = df_113.drop([\"direction\", \"justice\"], axis=1)\n",
    "data_113.head()"
   ]
  },
  {
   "cell_type": "code",
   "execution_count": 7,
   "metadata": {},
   "outputs": [],
   "source": [
    "# term_df = pd.get_dummies(data_113[\"term\"], prefix=\"term\")\n",
    "# precAlt_df = pd.get_dummies(data_113[\"precedentAlteration\"], prefix=\"precedentAlteration\")\n",
    "# issueArea_df = pd.get_dummies(data_113[\"issueArea\"], prefix=\"issueArea\")\n",
    "# lawType_df = pd.get_dummies(data_113[\"lawType\"], prefix=\"lawType\")\n",
    "# caseOriginState_df = pd.get_dummies(data_113[\"caseOriginState\"], prefix=\"caseOriginState\")"
   ]
  },
  {
   "cell_type": "code",
   "execution_count": 5,
   "metadata": {},
   "outputs": [],
   "source": [
    "# oneHot_features = pd.concat([term_df, precAlt_df], axis=1)\n",
    "# oneHot_features = pd.concat([oneHot_features, issueArea_df], axis=1)\n",
    "# oneHot_features = pd.concat([oneHot_features, lawType_df], axis=1)\n",
    "# oneHot_features = pd.concat([oneHot_features, caseOriginState_df], axis=1)\n",
    "# oneHot_features.head()"
   ]
  },
  {
   "cell_type": "code",
   "execution_count": 6,
   "metadata": {},
   "outputs": [],
   "source": [
    "X = data_113\n",
    "y = target_113\n",
    "feature_names = data_113.columns"
   ]
  },
  {
   "cell_type": "markdown",
   "metadata": {},
   "source": [
    "### Evaluating different classifiers"
   ]
  },
  {
   "cell_type": "code",
   "execution_count": 7,
   "metadata": {},
   "outputs": [
    {
     "name": "stdout",
     "output_type": "stream",
     "text": [
      "5-fold cross validation:\n",
      "\n",
      "F1: 0.253 [Logistic Regression]\n",
      "F1: 0.313 [Random Forest]\n",
      "F1: 0.525 [Naive Bayes]\n",
      "F1: 0.184 [Linear SVM]\n"
     ]
    }
   ],
   "source": [
    "clf_lr = LogisticRegression()\n",
    "clf_rf = RandomForestClassifier()\n",
    "clf_nb = GaussianNB()\n",
    "clf_svm = SVC(kernel='linear', probability=True)\n",
    "\n",
    "print('5-fold cross validation:\\n')\n",
    "\n",
    "labels = [\"Logistic Regression\", \"Random Forest\", \"Naive Bayes\", \"Linear SVM\"]\n",
    "\n",
    "for clf, label in zip([clf_lr, clf_rf, clf_nb, clf_svm], labels):\n",
    "    scores = cross_val_score(clf, X, y, cv=5, \n",
    "                             scoring='f1', n_jobs=-1)\n",
    "    print(\"F1: %0.3f [%s]\" % (scores.mean(), label))"
   ]
  },
  {
   "cell_type": "code",
   "execution_count": 8,
   "metadata": {},
   "outputs": [],
   "source": [
    "# using all but linear svm for voting classifier estimators\n",
    "v_clf_hard = VotingClassifier(estimators = [(labels[0], clf_lr),\n",
    "                                            (labels[1], clf_rf),\n",
    "                                            (labels[2], clf_nb)],\n",
    "                                            voting = 'hard')"
   ]
  },
  {
   "cell_type": "code",
   "execution_count": 9,
   "metadata": {},
   "outputs": [],
   "source": [
    "v_clf_soft = VotingClassifier(estimators = [(labels[0], clf_lr),\n",
    "                                            (labels[1], clf_rf),\n",
    "                                            (labels[2], clf_nb)],\n",
    "                                            voting = 'soft')"
   ]
  },
  {
   "cell_type": "code",
   "execution_count": 10,
   "metadata": {},
   "outputs": [
    {
     "name": "stdout",
     "output_type": "stream",
     "text": [
      "F1: 0.253 [Logistic Regression]\n",
      "F1: 0.261 [Random Forest]\n",
      "F1: 0.525 [Naive Bayes]\n",
      "F1: 0.306 [Voting_Classifier_Hard]\n",
      "F1: 0.470 [Voting_Classifier_Soft]\n"
     ]
    }
   ],
   "source": [
    "new_labels = [\"Logistic Regression\", \"Random Forest\", \"Naive Bayes\", \n",
    "              \"Voting_Classifier_Hard\", \"Voting_Classifier_Soft\"]\n",
    "\n",
    "for (clf, label) in zip([clf_lr, clf_rf, clf_nb, v_clf_hard, v_clf_soft], new_labels):\n",
    "    scores = cross_val_score(clf, X, y,cv=5,\n",
    "                             scoring='f1', n_jobs=-1)\n",
    "    print(\"F1: %0.3f [%s]\" % (scores.mean(), label))"
   ]
  },
  {
   "cell_type": "markdown",
   "metadata": {},
   "source": [
    "### SVM Model Training"
   ]
  },
  {
   "cell_type": "code",
   "execution_count": 11,
   "metadata": {},
   "outputs": [],
   "source": [
    "X_train, X_test, y_train, y_test = train_test_split(X, y, test_size=0.2, random_state=42)"
   ]
  },
  {
   "cell_type": "code",
   "execution_count": 12,
   "metadata": {},
   "outputs": [
    {
     "data": {
      "text/plain": [
       "SVC(C=1.0, cache_size=200, class_weight=None, coef0=0.0,\n",
       "  decision_function_shape='ovr', degree=3, gamma='auto_deprecated',\n",
       "  kernel='linear', max_iter=-1, probability=False, random_state=None,\n",
       "  shrinking=True, tol=0.001, verbose=False)"
      ]
     },
     "execution_count": 12,
     "metadata": {},
     "output_type": "execute_result"
    }
   ],
   "source": [
    "model = SVC(kernel='linear')\n",
    "model.fit(X_train, y_train)"
   ]
  },
  {
   "cell_type": "code",
   "execution_count": 13,
   "metadata": {},
   "outputs": [
    {
     "name": "stdout",
     "output_type": "stream",
     "text": [
      "Train Acc: 0.661\n",
      "Test Acc: 0.560\n"
     ]
    }
   ],
   "source": [
    "# Model Accuracy\n",
    "print('Train Acc: %.3f' % model.score(X_train, y_train))\n",
    "print('Test Acc: %.3f' % model.score(X_test, y_test))"
   ]
  },
  {
   "cell_type": "code",
   "execution_count": 14,
   "metadata": {},
   "outputs": [
    {
     "name": "stdout",
     "output_type": "stream",
     "text": [
      "              precision    recall  f1-score   support\n",
      "\n",
      "conservative       0.29      0.20      0.23        46\n",
      "     liberal       0.64      0.75      0.69        88\n",
      "\n",
      "   micro avg       0.56      0.56      0.56       134\n",
      "   macro avg       0.47      0.47      0.46       134\n",
      "weighted avg       0.52      0.56      0.53       134\n",
      "\n"
     ]
    }
   ],
   "source": [
    "predictions = model.predict(X_test)\n",
    "print(classification_report(y_test, predictions,\n",
    "                            target_names=target_names))"
   ]
  },
  {
   "cell_type": "code",
   "execution_count": 15,
   "metadata": {},
   "outputs": [
    {
     "name": "stdout",
     "output_type": "stream",
     "text": [
      "[[ 9 22]\n",
      " [37 66]]\n"
     ]
    },
    {
     "data": {
      "text/plain": [
       "(array([2, 2, 2, 2, 2, 2, 2, 2, 2, 1, 2, 1, 2, 2, 1], dtype=int64),\n",
       " array([1, 1, 2, 1, 2, 2, 1, 2, 2, 1, 1, 2, 2, 1, 2], dtype=int64))"
      ]
     },
     "execution_count": 15,
     "metadata": {},
     "output_type": "execute_result"
    }
   ],
   "source": [
    "print(confusion_matrix(predictions, y_test))\n",
    "predictions[:15], y_test[:15].ravel()"
   ]
  },
  {
   "cell_type": "markdown",
   "metadata": {},
   "source": [
    "### Save model and confirm load"
   ]
  },
  {
   "cell_type": "code",
   "execution_count": 16,
   "metadata": {},
   "outputs": [],
   "source": [
    "import pickle\n",
    "\n",
    "filename = '113_model.sav'\n",
    "pickle.dump(model, open(filename, 'wb'))"
   ]
  },
  {
   "cell_type": "code",
   "execution_count": 17,
   "metadata": {},
   "outputs": [
    {
     "name": "stdout",
     "output_type": "stream",
     "text": [
      "0.5597014925373134\n"
     ]
    }
   ],
   "source": [
    "loaded_model = pickle.load(open(filename, 'rb'))\n",
    "result = loaded_model.score(X_test, y_test)\n",
    "print(result)"
   ]
  },
  {
   "cell_type": "code",
   "execution_count": null,
   "metadata": {},
   "outputs": [],
   "source": []
  }
 ],
 "metadata": {
  "kernelspec": {
   "display_name": "Python 3",
   "language": "python",
   "name": "python3"
  },
  "language_info": {
   "codemirror_mode": {
    "name": "ipython",
    "version": 3
   },
   "file_extension": ".py",
   "mimetype": "text/x-python",
   "name": "python",
   "nbconvert_exporter": "python",
   "pygments_lexer": "ipython3",
   "version": "3.7.1"
  }
 },
 "nbformat": 4,
 "nbformat_minor": 2
}
