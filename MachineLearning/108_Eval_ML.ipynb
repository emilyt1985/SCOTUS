{
 "cells": [
  {
   "cell_type": "code",
   "execution_count": 1,
   "metadata": {},
   "outputs": [],
   "source": [
    "# import dependencies\n",
    "import pandas as pd\n",
    "import numpy as np\n",
    "import warnings\n",
    "from sklearn.model_selection import cross_val_score, train_test_split\n",
    "from sklearn.ensemble import RandomForestClassifier, VotingClassifier\n",
    "from sklearn.linear_model import LogisticRegression\n",
    "from sklearn.naive_bayes import GaussianNB\n",
    "from sklearn.svm import SVC\n",
    "from sklearn.metrics import confusion_matrix, classification_report\n",
    "\n",
    "warnings.filterwarnings(\"ignore\")"
   ]
  },
  {
   "cell_type": "markdown",
   "metadata": {},
   "source": [
    "### Pre-processing"
   ]
  },
  {
   "cell_type": "code",
   "execution_count": 3,
   "metadata": {},
   "outputs": [
    {
     "data": {
      "text/html": [
       "<div>\n",
       "<style scoped>\n",
       "    .dataframe tbody tr th:only-of-type {\n",
       "        vertical-align: middle;\n",
       "    }\n",
       "\n",
       "    .dataframe tbody tr th {\n",
       "        vertical-align: top;\n",
       "    }\n",
       "\n",
       "    .dataframe thead th {\n",
       "        text-align: right;\n",
       "    }\n",
       "</style>\n",
       "<table border=\"1\" class=\"dataframe\">\n",
       "  <thead>\n",
       "    <tr style=\"text-align: right;\">\n",
       "      <th></th>\n",
       "      <th>term_1953</th>\n",
       "      <th>term_1960</th>\n",
       "      <th>term_1962</th>\n",
       "      <th>term_1965</th>\n",
       "      <th>term_1968</th>\n",
       "      <th>term_1972</th>\n",
       "      <th>term_1973</th>\n",
       "      <th>term_1977</th>\n",
       "      <th>term_1984</th>\n",
       "      <th>term_1987</th>\n",
       "      <th>...</th>\n",
       "      <th>lawType_3</th>\n",
       "      <th>lawType_4</th>\n",
       "      <th>lawType_5</th>\n",
       "      <th>lawType_6</th>\n",
       "      <th>lawType_8</th>\n",
       "      <th>lawType_9</th>\n",
       "      <th>precedentAlteration_0</th>\n",
       "      <th>precedentAlteration_1</th>\n",
       "      <th>direction</th>\n",
       "      <th>justice</th>\n",
       "    </tr>\n",
       "  </thead>\n",
       "  <tbody>\n",
       "    <tr>\n",
       "      <th>13793</th>\n",
       "      <td>0</td>\n",
       "      <td>0</td>\n",
       "      <td>0</td>\n",
       "      <td>0</td>\n",
       "      <td>0</td>\n",
       "      <td>0</td>\n",
       "      <td>0</td>\n",
       "      <td>0</td>\n",
       "      <td>0</td>\n",
       "      <td>0</td>\n",
       "      <td>...</td>\n",
       "      <td>1</td>\n",
       "      <td>0</td>\n",
       "      <td>0</td>\n",
       "      <td>0</td>\n",
       "      <td>0</td>\n",
       "      <td>0</td>\n",
       "      <td>0</td>\n",
       "      <td>1</td>\n",
       "      <td>1</td>\n",
       "      <td>108</td>\n",
       "    </tr>\n",
       "    <tr>\n",
       "      <th>13802</th>\n",
       "      <td>0</td>\n",
       "      <td>0</td>\n",
       "      <td>0</td>\n",
       "      <td>0</td>\n",
       "      <td>0</td>\n",
       "      <td>0</td>\n",
       "      <td>0</td>\n",
       "      <td>0</td>\n",
       "      <td>0</td>\n",
       "      <td>0</td>\n",
       "      <td>...</td>\n",
       "      <td>0</td>\n",
       "      <td>0</td>\n",
       "      <td>0</td>\n",
       "      <td>0</td>\n",
       "      <td>0</td>\n",
       "      <td>0</td>\n",
       "      <td>1</td>\n",
       "      <td>0</td>\n",
       "      <td>2</td>\n",
       "      <td>108</td>\n",
       "    </tr>\n",
       "    <tr>\n",
       "      <th>13811</th>\n",
       "      <td>0</td>\n",
       "      <td>0</td>\n",
       "      <td>0</td>\n",
       "      <td>0</td>\n",
       "      <td>0</td>\n",
       "      <td>0</td>\n",
       "      <td>0</td>\n",
       "      <td>0</td>\n",
       "      <td>0</td>\n",
       "      <td>0</td>\n",
       "      <td>...</td>\n",
       "      <td>0</td>\n",
       "      <td>0</td>\n",
       "      <td>0</td>\n",
       "      <td>0</td>\n",
       "      <td>0</td>\n",
       "      <td>1</td>\n",
       "      <td>1</td>\n",
       "      <td>0</td>\n",
       "      <td>1</td>\n",
       "      <td>108</td>\n",
       "    </tr>\n",
       "    <tr>\n",
       "      <th>13828</th>\n",
       "      <td>0</td>\n",
       "      <td>0</td>\n",
       "      <td>0</td>\n",
       "      <td>0</td>\n",
       "      <td>0</td>\n",
       "      <td>0</td>\n",
       "      <td>0</td>\n",
       "      <td>0</td>\n",
       "      <td>0</td>\n",
       "      <td>0</td>\n",
       "      <td>...</td>\n",
       "      <td>0</td>\n",
       "      <td>0</td>\n",
       "      <td>0</td>\n",
       "      <td>1</td>\n",
       "      <td>0</td>\n",
       "      <td>0</td>\n",
       "      <td>1</td>\n",
       "      <td>0</td>\n",
       "      <td>2</td>\n",
       "      <td>108</td>\n",
       "    </tr>\n",
       "    <tr>\n",
       "      <th>13837</th>\n",
       "      <td>0</td>\n",
       "      <td>0</td>\n",
       "      <td>0</td>\n",
       "      <td>0</td>\n",
       "      <td>0</td>\n",
       "      <td>0</td>\n",
       "      <td>0</td>\n",
       "      <td>0</td>\n",
       "      <td>0</td>\n",
       "      <td>0</td>\n",
       "      <td>...</td>\n",
       "      <td>0</td>\n",
       "      <td>0</td>\n",
       "      <td>0</td>\n",
       "      <td>1</td>\n",
       "      <td>0</td>\n",
       "      <td>0</td>\n",
       "      <td>1</td>\n",
       "      <td>0</td>\n",
       "      <td>1</td>\n",
       "      <td>108</td>\n",
       "    </tr>\n",
       "  </tbody>\n",
       "</table>\n",
       "<p>5 rows × 122 columns</p>\n",
       "</div>"
      ],
      "text/plain": [
       "       term_1953  term_1960  term_1962  term_1965  term_1968  term_1972  \\\n",
       "13793          0          0          0          0          0          0   \n",
       "13802          0          0          0          0          0          0   \n",
       "13811          0          0          0          0          0          0   \n",
       "13828          0          0          0          0          0          0   \n",
       "13837          0          0          0          0          0          0   \n",
       "\n",
       "       term_1973  term_1977  term_1984  term_1987   ...     lawType_3  \\\n",
       "13793          0          0          0          0   ...             1   \n",
       "13802          0          0          0          0   ...             0   \n",
       "13811          0          0          0          0   ...             0   \n",
       "13828          0          0          0          0   ...             0   \n",
       "13837          0          0          0          0   ...             0   \n",
       "\n",
       "       lawType_4  lawType_5  lawType_6  lawType_8  lawType_9  \\\n",
       "13793          0          0          0          0          0   \n",
       "13802          0          0          0          0          0   \n",
       "13811          0          0          0          0          1   \n",
       "13828          0          0          1          0          0   \n",
       "13837          0          0          1          0          0   \n",
       "\n",
       "       precedentAlteration_0  precedentAlteration_1  direction  justice  \n",
       "13793                      0                      1          1      108  \n",
       "13802                      1                      0          2      108  \n",
       "13811                      1                      0          1      108  \n",
       "13828                      1                      0          2      108  \n",
       "13837                      1                      0          1      108  \n",
       "\n",
       "[5 rows x 122 columns]"
      ]
     },
     "execution_count": 3,
     "metadata": {},
     "output_type": "execute_result"
    }
   ],
   "source": [
    "scotus_df = pd.read_csv(\"../Resources/SCOTUS_OHEncoded.csv\", index_col=0)\n",
    "df_108 = scotus_df[scotus_df[\"justice\"] == 108]\n",
    "df_108.tail()"
   ]
  },
  {
   "cell_type": "code",
   "execution_count": 4,
   "metadata": {},
   "outputs": [],
   "source": [
    "target_108 = df_108[\"direction\"]\n",
    "target_names = [\"conservative\", \"liberal\"]"
   ]
  },
  {
   "cell_type": "code",
   "execution_count": 5,
   "metadata": {},
   "outputs": [
    {
     "data": {
      "text/html": [
       "<div>\n",
       "<style scoped>\n",
       "    .dataframe tbody tr th:only-of-type {\n",
       "        vertical-align: middle;\n",
       "    }\n",
       "\n",
       "    .dataframe tbody tr th {\n",
       "        vertical-align: top;\n",
       "    }\n",
       "\n",
       "    .dataframe thead th {\n",
       "        text-align: right;\n",
       "    }\n",
       "</style>\n",
       "<table border=\"1\" class=\"dataframe\">\n",
       "  <thead>\n",
       "    <tr style=\"text-align: right;\">\n",
       "      <th></th>\n",
       "      <th>term_1953</th>\n",
       "      <th>term_1960</th>\n",
       "      <th>term_1962</th>\n",
       "      <th>term_1965</th>\n",
       "      <th>term_1968</th>\n",
       "      <th>term_1972</th>\n",
       "      <th>term_1973</th>\n",
       "      <th>term_1977</th>\n",
       "      <th>term_1984</th>\n",
       "      <th>term_1987</th>\n",
       "      <th>...</th>\n",
       "      <th>lawType_1</th>\n",
       "      <th>lawType_2</th>\n",
       "      <th>lawType_3</th>\n",
       "      <th>lawType_4</th>\n",
       "      <th>lawType_5</th>\n",
       "      <th>lawType_6</th>\n",
       "      <th>lawType_8</th>\n",
       "      <th>lawType_9</th>\n",
       "      <th>precedentAlteration_0</th>\n",
       "      <th>precedentAlteration_1</th>\n",
       "    </tr>\n",
       "  </thead>\n",
       "  <tbody>\n",
       "    <tr>\n",
       "      <th>597</th>\n",
       "      <td>0</td>\n",
       "      <td>0</td>\n",
       "      <td>0</td>\n",
       "      <td>0</td>\n",
       "      <td>0</td>\n",
       "      <td>0</td>\n",
       "      <td>0</td>\n",
       "      <td>0</td>\n",
       "      <td>0</td>\n",
       "      <td>0</td>\n",
       "      <td>...</td>\n",
       "      <td>0</td>\n",
       "      <td>0</td>\n",
       "      <td>0</td>\n",
       "      <td>0</td>\n",
       "      <td>1</td>\n",
       "      <td>0</td>\n",
       "      <td>0</td>\n",
       "      <td>0</td>\n",
       "      <td>1</td>\n",
       "      <td>0</td>\n",
       "    </tr>\n",
       "    <tr>\n",
       "      <th>604</th>\n",
       "      <td>0</td>\n",
       "      <td>0</td>\n",
       "      <td>0</td>\n",
       "      <td>0</td>\n",
       "      <td>0</td>\n",
       "      <td>0</td>\n",
       "      <td>0</td>\n",
       "      <td>0</td>\n",
       "      <td>0</td>\n",
       "      <td>0</td>\n",
       "      <td>...</td>\n",
       "      <td>0</td>\n",
       "      <td>0</td>\n",
       "      <td>1</td>\n",
       "      <td>0</td>\n",
       "      <td>0</td>\n",
       "      <td>0</td>\n",
       "      <td>0</td>\n",
       "      <td>0</td>\n",
       "      <td>1</td>\n",
       "      <td>0</td>\n",
       "    </tr>\n",
       "    <tr>\n",
       "      <th>609</th>\n",
       "      <td>0</td>\n",
       "      <td>0</td>\n",
       "      <td>0</td>\n",
       "      <td>0</td>\n",
       "      <td>0</td>\n",
       "      <td>0</td>\n",
       "      <td>0</td>\n",
       "      <td>0</td>\n",
       "      <td>0</td>\n",
       "      <td>0</td>\n",
       "      <td>...</td>\n",
       "      <td>0</td>\n",
       "      <td>0</td>\n",
       "      <td>1</td>\n",
       "      <td>0</td>\n",
       "      <td>0</td>\n",
       "      <td>0</td>\n",
       "      <td>0</td>\n",
       "      <td>0</td>\n",
       "      <td>1</td>\n",
       "      <td>0</td>\n",
       "    </tr>\n",
       "    <tr>\n",
       "      <th>617</th>\n",
       "      <td>0</td>\n",
       "      <td>0</td>\n",
       "      <td>0</td>\n",
       "      <td>0</td>\n",
       "      <td>0</td>\n",
       "      <td>0</td>\n",
       "      <td>0</td>\n",
       "      <td>0</td>\n",
       "      <td>0</td>\n",
       "      <td>0</td>\n",
       "      <td>...</td>\n",
       "      <td>0</td>\n",
       "      <td>0</td>\n",
       "      <td>0</td>\n",
       "      <td>0</td>\n",
       "      <td>0</td>\n",
       "      <td>0</td>\n",
       "      <td>0</td>\n",
       "      <td>0</td>\n",
       "      <td>1</td>\n",
       "      <td>0</td>\n",
       "    </tr>\n",
       "    <tr>\n",
       "      <th>620</th>\n",
       "      <td>0</td>\n",
       "      <td>0</td>\n",
       "      <td>0</td>\n",
       "      <td>0</td>\n",
       "      <td>0</td>\n",
       "      <td>0</td>\n",
       "      <td>0</td>\n",
       "      <td>0</td>\n",
       "      <td>0</td>\n",
       "      <td>0</td>\n",
       "      <td>...</td>\n",
       "      <td>0</td>\n",
       "      <td>0</td>\n",
       "      <td>0</td>\n",
       "      <td>1</td>\n",
       "      <td>0</td>\n",
       "      <td>0</td>\n",
       "      <td>0</td>\n",
       "      <td>0</td>\n",
       "      <td>1</td>\n",
       "      <td>0</td>\n",
       "    </tr>\n",
       "  </tbody>\n",
       "</table>\n",
       "<p>5 rows × 120 columns</p>\n",
       "</div>"
      ],
      "text/plain": [
       "     term_1953  term_1960  term_1962  term_1965  term_1968  term_1972  \\\n",
       "597          0          0          0          0          0          0   \n",
       "604          0          0          0          0          0          0   \n",
       "609          0          0          0          0          0          0   \n",
       "617          0          0          0          0          0          0   \n",
       "620          0          0          0          0          0          0   \n",
       "\n",
       "     term_1973  term_1977  term_1984  term_1987          ...            \\\n",
       "597          0          0          0          0          ...             \n",
       "604          0          0          0          0          ...             \n",
       "609          0          0          0          0          ...             \n",
       "617          0          0          0          0          ...             \n",
       "620          0          0          0          0          ...             \n",
       "\n",
       "     lawType_1  lawType_2  lawType_3  lawType_4  lawType_5  lawType_6  \\\n",
       "597          0          0          0          0          1          0   \n",
       "604          0          0          1          0          0          0   \n",
       "609          0          0          1          0          0          0   \n",
       "617          0          0          0          0          0          0   \n",
       "620          0          0          0          1          0          0   \n",
       "\n",
       "     lawType_8  lawType_9  precedentAlteration_0  precedentAlteration_1  \n",
       "597          0          0                      1                      0  \n",
       "604          0          0                      1                      0  \n",
       "609          0          0                      1                      0  \n",
       "617          0          0                      1                      0  \n",
       "620          0          0                      1                      0  \n",
       "\n",
       "[5 rows x 120 columns]"
      ]
     },
     "execution_count": 5,
     "metadata": {},
     "output_type": "execute_result"
    }
   ],
   "source": [
    "data_108 = df_108.drop([\"direction\", \"justice\"], axis=1)\n",
    "data_108.head()"
   ]
  },
  {
   "cell_type": "code",
   "execution_count": 6,
   "metadata": {},
   "outputs": [],
   "source": [
    "# # One-hot encoding\n",
    "# term_df = pd.get_dummies(data_108[\"term\"], prefix='term')\n",
    "# precAlt_df = pd.get_dummies(data_108[\"precedentAlteration\"], prefix='precedentAlteration')\n",
    "# issueArea_df = pd.get_dummies(data_108[\"issueArea\"], prefix='issueArea')\n",
    "# lawType_df = pd.get_dummies(data_108[\"lawType\"], prefix='lawType')\n",
    "# caseOriginState_df = pd.get_dummies(data_108[\"caseOriginState\"], prefix='caseOriginState')\n",
    "\n",
    "# precAlt_df.head()"
   ]
  },
  {
   "cell_type": "code",
   "execution_count": 7,
   "metadata": {},
   "outputs": [],
   "source": [
    "# # concatenate encoded features into mega-dataframe\n",
    "# oneHot_features = pd.concat([term_df, precAlt_df], axis=1)\n",
    "# oneHot_features = pd.concat([oneHot_features, issueArea_df], axis=1)\n",
    "# oneHot_features = pd.concat([oneHot_features, lawType_df], axis=1)\n",
    "# oneHot_features = pd.concat([oneHot_features, caseOriginState_df], axis=1)\n",
    "# oneHot_features.head()"
   ]
  },
  {
   "cell_type": "code",
   "execution_count": 8,
   "metadata": {},
   "outputs": [],
   "source": [
    "# assign as X, y, and feature_names variables (to simplify replication)\n",
    "X = data_108\n",
    "y = target_108\n",
    "feature_names = data_108.columns"
   ]
  },
  {
   "cell_type": "markdown",
   "metadata": {},
   "source": [
    "### Evaluating different classifiers"
   ]
  },
  {
   "cell_type": "code",
   "execution_count": 9,
   "metadata": {},
   "outputs": [
    {
     "name": "stdout",
     "output_type": "stream",
     "text": [
      "5-fold cross validation:\n",
      "\n",
      "F1: 0.729 [Logistic Regression]\n",
      "F1: 0.733 [Random Forest]\n",
      "F1: 0.133 [Naive Bayes]\n",
      "F1: 0.736 [Linear SVM]\n"
     ]
    }
   ],
   "source": [
    "clf_lr = LogisticRegression()\n",
    "clf_rf = RandomForestClassifier()\n",
    "clf_nb = GaussianNB()\n",
    "clf_svm = SVC(kernel='linear', probability=True)\n",
    "\n",
    "print('5-fold cross validation:\\n')\n",
    "\n",
    "labels = [\"Logistic Regression\", \"Random Forest\", \"Naive Bayes\", \"Linear SVM\"]\n",
    "\n",
    "for clf, label in zip([clf_lr, clf_rf, clf_nb, clf_svm], labels):\n",
    "    scores = cross_val_score(clf, X, y, cv=5, \n",
    "                             scoring='f1', n_jobs=-1)\n",
    "    print(\"F1: %0.3f [%s]\" % (scores.mean(), label))\n"
   ]
  },
  {
   "cell_type": "code",
   "execution_count": 10,
   "metadata": {},
   "outputs": [],
   "source": [
    "# using all but naive bayes (low score) for voting classifier estimators\n",
    "v_clf_hard = VotingClassifier(estimators = [(labels[0], clf_lr),\n",
    "                                            (labels[1], clf_rf),\n",
    "                                            (labels[3], clf_svm)],\n",
    "                                            voting = 'hard')"
   ]
  },
  {
   "cell_type": "code",
   "execution_count": 11,
   "metadata": {},
   "outputs": [],
   "source": [
    "v_clf_soft = VotingClassifier(estimators = [(labels[0], clf_lr),\n",
    "                                            (labels[1], clf_rf),\n",
    "                                            (labels[3], clf_svm)],\n",
    "                                            voting = 'soft')"
   ]
  },
  {
   "cell_type": "code",
   "execution_count": 12,
   "metadata": {
    "scrolled": false
   },
   "outputs": [
    {
     "name": "stdout",
     "output_type": "stream",
     "text": [
      "F1: 0.729 [Logistic Regression]\n",
      "F1: 0.712 [Random Forest]\n",
      "F1: 0.736 [Linear SVM]\n",
      "F1: 0.736 [Voting_Classifier_Hard]\n",
      "F1: 0.739 [Voting_Classifier_Soft]\n"
     ]
    }
   ],
   "source": [
    "new_labels = [\"Logistic Regression\", \"Random Forest\", \"Linear SVM\", \n",
    "              \"Voting_Classifier_Hard\", \"Voting_Classifier_Soft\"]\n",
    "\n",
    "for (clf, label) in zip([clf_lr, clf_rf, clf_svm, v_clf_hard, v_clf_soft], new_labels):\n",
    "    scores = cross_val_score(clf, X, y,cv=5,\n",
    "                             scoring='f1', n_jobs=-1)\n",
    "    print(\"F1: %0.3f [%s]\" % (scores.mean(), label))"
   ]
  },
  {
   "cell_type": "markdown",
   "metadata": {},
   "source": [
    "### Training the SVM model\n",
    "While the Soft Voting Classifier had the best F1 score for justice 108, Linear SVM was 2nd highest by a very small margin and also scored well on other justice's models, thus, it was chosen as the standard."
   ]
  },
  {
   "cell_type": "code",
   "execution_count": 13,
   "metadata": {},
   "outputs": [],
   "source": [
    "X_train, X_test, y_train, y_test = train_test_split(X, y, test_size=0.25, random_state=42)"
   ]
  },
  {
   "cell_type": "code",
   "execution_count": 14,
   "metadata": {},
   "outputs": [
    {
     "data": {
      "text/plain": [
       "SVC(C=1.0, cache_size=200, class_weight=None, coef0=0.0,\n",
       "  decision_function_shape='ovr', degree=3, gamma='auto_deprecated',\n",
       "  kernel='linear', max_iter=-1, probability=False, random_state=None,\n",
       "  shrinking=True, tol=0.001, verbose=False)"
      ]
     },
     "execution_count": 14,
     "metadata": {},
     "output_type": "execute_result"
    }
   ],
   "source": [
    "model = SVC(kernel='linear')\n",
    "model.fit(X_train, y_train)"
   ]
  },
  {
   "cell_type": "code",
   "execution_count": 15,
   "metadata": {},
   "outputs": [
    {
     "name": "stdout",
     "output_type": "stream",
     "text": [
      "Train Acc: 0.691\n",
      "Test Acc: 0.664\n"
     ]
    }
   ],
   "source": [
    "# Model Accuracy\n",
    "print('Train Acc: %.3f' % model.score(X_train, y_train))\n",
    "print('Test Acc: %.3f' % model.score(X_test, y_test))"
   ]
  },
  {
   "cell_type": "code",
   "execution_count": 16,
   "metadata": {},
   "outputs": [
    {
     "name": "stdout",
     "output_type": "stream",
     "text": [
      "              precision    recall  f1-score   support\n",
      "\n",
      "conservative       0.68      0.94      0.79       378\n",
      "     liberal       0.44      0.09      0.15       184\n",
      "\n",
      "   micro avg       0.66      0.66      0.66       562\n",
      "   macro avg       0.56      0.52      0.47       562\n",
      "weighted avg       0.60      0.66      0.58       562\n",
      "\n"
     ]
    }
   ],
   "source": [
    "predictions = model.predict(X_test)\n",
    "print(classification_report(y_test, predictions,\n",
    "                            target_names=target_names))"
   ]
  },
  {
   "cell_type": "code",
   "execution_count": 17,
   "metadata": {
    "scrolled": true
   },
   "outputs": [
    {
     "data": {
      "text/plain": [
       "(array([2, 1, 1, 1, 1, 1, 1, 1, 1, 1, 1, 1, 1, 1, 1], dtype=int64),\n",
       " array([2, 1, 1, 1, 1, 1, 2, 1, 1, 1, 1, 1, 1, 1, 1], dtype=int64))"
      ]
     },
     "execution_count": 17,
     "metadata": {},
     "output_type": "execute_result"
    }
   ],
   "source": [
    "confusion_matrix(predictions, y_test)\n",
    "predictions[:15], y_test[:15].ravel()"
   ]
  },
  {
   "cell_type": "markdown",
   "metadata": {},
   "source": [
    "### Save and confirm loading of the model"
   ]
  },
  {
   "cell_type": "code",
   "execution_count": 18,
   "metadata": {},
   "outputs": [],
   "source": [
    "#Save Model\n",
    "#https://machinelearningmastery.com/save-load-machine-learning-models-python-scikit-learn/\n",
    "import pickle\n",
    "\n",
    "filename = '108_model.sav'\n",
    "pickle.dump(model, open(filename, 'wb'))"
   ]
  },
  {
   "cell_type": "code",
   "execution_count": 19,
   "metadata": {},
   "outputs": [
    {
     "name": "stdout",
     "output_type": "stream",
     "text": [
      "0.6637010676156584\n"
     ]
    }
   ],
   "source": [
    "#Load Model from Disk\n",
    "loaded_model = pickle.load(open(filename, 'rb'))\n",
    "result = loaded_model.score(X_test, y_test)\n",
    "print(result)"
   ]
  },
  {
   "cell_type": "code",
   "execution_count": null,
   "metadata": {},
   "outputs": [],
   "source": []
  }
 ],
 "metadata": {
  "kernelspec": {
   "display_name": "Python 3",
   "language": "python",
   "name": "python3"
  },
  "language_info": {
   "codemirror_mode": {
    "name": "ipython",
    "version": 3
   },
   "file_extension": ".py",
   "mimetype": "text/x-python",
   "name": "python",
   "nbconvert_exporter": "python",
   "pygments_lexer": "ipython3",
   "version": "3.6.7"
  }
 },
 "nbformat": 4,
 "nbformat_minor": 2
}
