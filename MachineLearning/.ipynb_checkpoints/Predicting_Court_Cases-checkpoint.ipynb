{
 "cells": [
  {
   "cell_type": "code",
   "execution_count": 1,
   "metadata": {},
   "outputs": [],
   "source": [
    "# import dependencies\n",
    "import pandas as pd\n",
    "import numpy as np\n",
    "import warnings\n",
    "from sklearn.model_selection import cross_val_score, train_test_split\n",
    "from sklearn.ensemble import RandomForestClassifier, VotingClassifier\n",
    "from sklearn.linear_model import LogisticRegression\n",
    "from sklearn.naive_bayes import GaussianNB\n",
    "from sklearn.svm import SVC\n",
    "from sklearn.metrics import confusion_matrix, classification_report\n",
    "\n",
    "warnings.filterwarnings(\"ignore\")"
   ]
  },
  {
   "cell_type": "markdown",
   "metadata": {},
   "source": [
    "### Initial data setup"
   ]
  },
  {
   "cell_type": "code",
   "execution_count": null,
   "metadata": {},
   "outputs": [],
   "source": [
    "# read in prediction case data csv\n",
    "# **fill in actual filename once we have CSV prepared**\n",
    "df_predict = pd.read_csv(\"cases_for_prediction.csv\")\n",
    "# df_predict.head()\n",
    "\n",
    "# target = df_predict[\"direction\"]\n",
    "# target_names = [\"conservative\", \"liberal\"]\n",
    "\n",
    "# data = df_predict.drop([\"direction\", \"caseId\"], axis=1)\n",
    "\n",
    "# set up lists for cases (landmark and current term) & justices 106-115\n",
    "cases = np.array(df_predict[\"caseName\"])\n",
    "justices = [x for x in range(106, 116)]\n"
   ]
  },
  {
   "cell_type": "markdown",
   "metadata": {},
   "source": [
    "### Pre-Processing"
   ]
  },
  {
   "cell_type": "code",
   "execution_count": null,
   "metadata": {},
   "outputs": [],
   "source": [
    "# pre-processing function\n",
    "def PreProc(c):\n",
    "    # set up initial target and data dataframes from csv\n",
    "    target = df_predict.loc[df_predict[\"caseId\"] == c][\"direction\"]\n",
    "    df_data = df_predict.loc[df_predict[\"caseId\"] == c].drop([\"direction\", \"caseId\"], axis=1)\n",
    "\n",
    "    # one-hot encode each data column\n",
    "    term_df = pd.get_dummies(df_data[\"term\"], prefix=\"term\")\n",
    "    precAlt_df = pd.get_dummies(df_data[\"precedentAlteration\"], prefix=\"precedentAlteration\")\n",
    "    issueArea_df = pd.get_dummies(df_data[\"issueArea\"], prefix=\"issueArea\")\n",
    "    lawType_df = pd.get_dummies(df_data[\"lawType\"], prefix=\"lawType\")\n",
    "    caseOriginState_df = pd.get_dummies(df_data[\"caseOriginState\"], prefix=\"caseOriginState\")\n",
    "    \n",
    "    # concatenate encoded columns back together\n",
    "    OH_features = pd.concat([term_df, precAlt_df], axis=1)\n",
    "    OH_features = pd.concat([OH_features, issueArea_df], axis=1)\n",
    "    OH_features = pd.concat([OH_features, lawType_df], axis=1)\n",
    "    OH_features = pd.concat([OH_features, caseOriginState_df], axis=1)\n",
    "    \n",
    "    # Set variables to return\n",
    "    X = OH_features\n",
    "    y = target\n",
    "    feature_names = OH_features.columns\n",
    "    \n",
    "    return X, y, feature_names\n"
   ]
  },
  {
   "cell_type": "markdown",
   "metadata": {},
   "source": [
    "### Justice prediction function"
   ]
  },
  {
   "cell_type": "code",
   "execution_count": null,
   "metadata": {},
   "outputs": [],
   "source": [
    "# use model to predict a justice's decision direction\n",
    "def JusticeDirection(j):\n",
    "    filename = f\"./{j}_Model.sav\"\n",
    "    model = pickle.load(open(filename, 'rb'))\n",
    "    \n",
    "    prediction = model.predict(X)\n",
    "    \n",
    "    return prediction\n"
   ]
  },
  {
   "cell_type": "markdown",
   "metadata": {},
   "source": [
    "### Iterate through cases and justices and apply functions"
   ]
  },
  {
   "cell_type": "code",
   "execution_count": null,
   "metadata": {},
   "outputs": [],
   "source": [
    "# For each case, make decision direction predictions on each judge\n",
    "# save results to later convert to a dataframe\n",
    "all_cases = []\n",
    "for c in cases:\n",
    "    print(f\"CaseId: {c}\\n\")\n",
    "    X, y, feature_names = PreProc(c)\n",
    "    \n",
    "    prediction_list = []\n",
    "    \n",
    "    for j in justices:               \n",
    "        prediction = JusticeDirection(j)\n",
    "        prediction_list.append(prediction)\n",
    "        print(f\"Justice #: {j}, Predicted Direction: {prediction}\\n\"))\n",
    "    \n",
    "    case_dict = {\"{c}\": [justices , prediction_list]}\n",
    "    all_cases.append(case_dict)\n",
    "    print(\"--------------------------------\")\n",
    "    "
   ]
  },
  {
   "cell_type": "markdown",
   "metadata": {},
   "source": [
    "### Convert results to a DataFrame and save to csv"
   ]
  },
  {
   "cell_type": "code",
   "execution_count": null,
   "metadata": {},
   "outputs": [],
   "source": [
    "# figure out how to turn the all_cases list of dictionaries into a df\n",
    "# how will we be using target or feature_names??\n",
    "# only compare to overall court decision as target (rather than actuals per justice, since not known for LM cases)?"
   ]
  },
  {
   "cell_type": "code",
   "execution_count": null,
   "metadata": {},
   "outputs": [],
   "source": [
    "# write to csv for plotting in tableau\n",
    "df.to_csv(\"../Resources/.csv\")"
   ]
  }
 ],
 "metadata": {
  "kernelspec": {
   "display_name": "Python 3",
   "language": "python",
   "name": "python3"
  },
  "language_info": {
   "codemirror_mode": {
    "name": "ipython",
    "version": 3
   },
   "file_extension": ".py",
   "mimetype": "text/x-python",
   "name": "python",
   "nbconvert_exporter": "python",
   "pygments_lexer": "ipython3",
   "version": "3.6.7"
  }
 },
 "nbformat": 4,
 "nbformat_minor": 2
}
