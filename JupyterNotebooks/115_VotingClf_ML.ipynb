{
 "cells": [
  {
   "cell_type": "code",
   "execution_count": 1,
   "metadata": {},
   "outputs": [
    {
     "name": "stderr",
     "output_type": "stream",
     "text": [
      "Using TensorFlow backend.\n"
     ]
    }
   ],
   "source": [
    "# import dependencies\n",
    "import pandas as pd\n",
    "import numpy as np\n",
    "import warnings\n",
    "from sklearn.preprocessing import StandardScaler\n",
    "from sklearn.model_selection import cross_val_score\n",
    "from sklearn.model_selection import train_test_split\n",
    "from sklearn.ensemble import RandomForestClassifier\n",
    "from sklearn.ensemble import VotingClassifier\n",
    "from sklearn.linear_model import LogisticRegression\n",
    "from sklearn.naive_bayes import GaussianNB\n",
    "from sklearn.svm import SVC\n",
    "from sklearn.metrics import classification_report\n",
    "from sklearn.metrics import confusion_matrix\n",
    "from keras.utils import to_categorical\n",
    "from sklearn.preprocessing import LabelEncoder\n",
    "\n",
    "\n",
    "warnings.filterwarnings(\"ignore\")"
   ]
  },
  {
   "cell_type": "code",
   "execution_count": 2,
   "metadata": {},
   "outputs": [
    {
     "data": {
      "text/html": [
       "<div>\n",
       "<style scoped>\n",
       "    .dataframe tbody tr th:only-of-type {\n",
       "        vertical-align: middle;\n",
       "    }\n",
       "\n",
       "    .dataframe tbody tr th {\n",
       "        vertical-align: top;\n",
       "    }\n",
       "\n",
       "    .dataframe thead th {\n",
       "        text-align: right;\n",
       "    }\n",
       "</style>\n",
       "<table border=\"1\" class=\"dataframe\">\n",
       "  <thead>\n",
       "    <tr style=\"text-align: right;\">\n",
       "      <th></th>\n",
       "      <th>justice</th>\n",
       "      <th>term</th>\n",
       "      <th>direction</th>\n",
       "      <th>precedentAlteration</th>\n",
       "      <th>issueArea</th>\n",
       "      <th>lawType</th>\n",
       "      <th>caseOriginState</th>\n",
       "    </tr>\n",
       "  </thead>\n",
       "  <tbody>\n",
       "    <tr>\n",
       "      <th>77</th>\n",
       "      <td>115</td>\n",
       "      <td>2017</td>\n",
       "      <td>2</td>\n",
       "      <td>0</td>\n",
       "      <td>1</td>\n",
       "      <td>2</td>\n",
       "      <td>55</td>\n",
       "    </tr>\n",
       "    <tr>\n",
       "      <th>78</th>\n",
       "      <td>115</td>\n",
       "      <td>2017</td>\n",
       "      <td>1</td>\n",
       "      <td>0</td>\n",
       "      <td>9</td>\n",
       "      <td>9</td>\n",
       "      <td>0</td>\n",
       "    </tr>\n",
       "    <tr>\n",
       "      <th>79</th>\n",
       "      <td>115</td>\n",
       "      <td>2017</td>\n",
       "      <td>2</td>\n",
       "      <td>0</td>\n",
       "      <td>2</td>\n",
       "      <td>2</td>\n",
       "      <td>0</td>\n",
       "    </tr>\n",
       "    <tr>\n",
       "      <th>80</th>\n",
       "      <td>115</td>\n",
       "      <td>2017</td>\n",
       "      <td>2</td>\n",
       "      <td>0</td>\n",
       "      <td>2</td>\n",
       "      <td>6</td>\n",
       "      <td>0</td>\n",
       "    </tr>\n",
       "    <tr>\n",
       "      <th>81</th>\n",
       "      <td>115</td>\n",
       "      <td>2017</td>\n",
       "      <td>1</td>\n",
       "      <td>0</td>\n",
       "      <td>1</td>\n",
       "      <td>6</td>\n",
       "      <td>0</td>\n",
       "    </tr>\n",
       "  </tbody>\n",
       "</table>\n",
       "</div>"
      ],
      "text/plain": [
       "    justice  term  direction  precedentAlteration  issueArea  lawType  \\\n",
       "77      115  2017          2                    0          1        2   \n",
       "78      115  2017          1                    0          9        9   \n",
       "79      115  2017          2                    0          2        2   \n",
       "80      115  2017          2                    0          2        6   \n",
       "81      115  2017          1                    0          1        6   \n",
       "\n",
       "    caseOriginState  \n",
       "77               55  \n",
       "78                0  \n",
       "79                0  \n",
       "80                0  \n",
       "81                0  "
      ]
     },
     "execution_count": 2,
     "metadata": {},
     "output_type": "execute_result"
    }
   ],
   "source": [
    "df_115 = pd.read_csv((\"../Resources/115justice.csv\"))\n",
    "df_115.tail()"
   ]
  },
  {
   "cell_type": "code",
   "execution_count": 3,
   "metadata": {},
   "outputs": [],
   "source": [
    "target_115 = df_115[\"direction\"]\n",
    "target_names = [\"conservative\", \"liberal\"]"
   ]
  },
  {
   "cell_type": "code",
   "execution_count": 4,
   "metadata": {},
   "outputs": [
    {
     "data": {
      "text/html": [
       "<div>\n",
       "<style scoped>\n",
       "    .dataframe tbody tr th:only-of-type {\n",
       "        vertical-align: middle;\n",
       "    }\n",
       "\n",
       "    .dataframe tbody tr th {\n",
       "        vertical-align: top;\n",
       "    }\n",
       "\n",
       "    .dataframe thead th {\n",
       "        text-align: right;\n",
       "    }\n",
       "</style>\n",
       "<table border=\"1\" class=\"dataframe\">\n",
       "  <thead>\n",
       "    <tr style=\"text-align: right;\">\n",
       "      <th></th>\n",
       "      <th>term</th>\n",
       "      <th>precedentAlteration</th>\n",
       "      <th>issueArea</th>\n",
       "      <th>lawType</th>\n",
       "      <th>caseOriginState</th>\n",
       "    </tr>\n",
       "  </thead>\n",
       "  <tbody>\n",
       "    <tr>\n",
       "      <th>0</th>\n",
       "      <td>2016</td>\n",
       "      <td>0</td>\n",
       "      <td>9</td>\n",
       "      <td>6</td>\n",
       "      <td>0</td>\n",
       "    </tr>\n",
       "    <tr>\n",
       "      <th>1</th>\n",
       "      <td>2016</td>\n",
       "      <td>0</td>\n",
       "      <td>9</td>\n",
       "      <td>1</td>\n",
       "      <td>0</td>\n",
       "    </tr>\n",
       "    <tr>\n",
       "      <th>2</th>\n",
       "      <td>2016</td>\n",
       "      <td>0</td>\n",
       "      <td>9</td>\n",
       "      <td>3</td>\n",
       "      <td>0</td>\n",
       "    </tr>\n",
       "    <tr>\n",
       "      <th>3</th>\n",
       "      <td>2016</td>\n",
       "      <td>0</td>\n",
       "      <td>8</td>\n",
       "      <td>3</td>\n",
       "      <td>0</td>\n",
       "    </tr>\n",
       "    <tr>\n",
       "      <th>4</th>\n",
       "      <td>2016</td>\n",
       "      <td>0</td>\n",
       "      <td>8</td>\n",
       "      <td>6</td>\n",
       "      <td>0</td>\n",
       "    </tr>\n",
       "  </tbody>\n",
       "</table>\n",
       "</div>"
      ],
      "text/plain": [
       "   term  precedentAlteration  issueArea  lawType  caseOriginState\n",
       "0  2016                    0          9        6                0\n",
       "1  2016                    0          9        1                0\n",
       "2  2016                    0          9        3                0\n",
       "3  2016                    0          8        3                0\n",
       "4  2016                    0          8        6                0"
      ]
     },
     "execution_count": 4,
     "metadata": {},
     "output_type": "execute_result"
    }
   ],
   "source": [
    "data_115 = df_115.drop([\"direction\", \"justice\"], axis=1)\n",
    "data_115.head()"
   ]
  },
  {
   "cell_type": "code",
   "execution_count": 5,
   "metadata": {},
   "outputs": [],
   "source": [
    "term_df = pd.get_dummies(data_115[\"term\"], prefix=\"term\")\n",
    "precAlt_df = pd.get_dummies(data_115[\"precedentAlteration\"], prefix=\"precedentAlteration\")\n",
    "issueArea_df = pd.get_dummies(data_115[\"issueArea\"], prefix=\"issueArea\")\n",
    "lawType_df = pd.get_dummies(data_115[\"lawType\"], prefix=\"lawType\")\n",
    "caseOriginState_df = pd.get_dummies(data_115[\"caseOriginState\"], prefix=\"caseOriginState\")"
   ]
  },
  {
   "cell_type": "code",
   "execution_count": 6,
   "metadata": {},
   "outputs": [
    {
     "data": {
      "text/html": [
       "<div>\n",
       "<style scoped>\n",
       "    .dataframe tbody tr th:only-of-type {\n",
       "        vertical-align: middle;\n",
       "    }\n",
       "\n",
       "    .dataframe tbody tr th {\n",
       "        vertical-align: top;\n",
       "    }\n",
       "\n",
       "    .dataframe thead th {\n",
       "        text-align: right;\n",
       "    }\n",
       "</style>\n",
       "<table border=\"1\" class=\"dataframe\">\n",
       "  <thead>\n",
       "    <tr style=\"text-align: right;\">\n",
       "      <th></th>\n",
       "      <th>term_2016</th>\n",
       "      <th>term_2017</th>\n",
       "      <th>precedentAlteration_0</th>\n",
       "      <th>precedentAlteration_1</th>\n",
       "      <th>issueArea_1</th>\n",
       "      <th>issueArea_2</th>\n",
       "      <th>issueArea_3</th>\n",
       "      <th>issueArea_4</th>\n",
       "      <th>issueArea_5</th>\n",
       "      <th>issueArea_6</th>\n",
       "      <th>...</th>\n",
       "      <th>caseOriginState_5</th>\n",
       "      <th>caseOriginState_6</th>\n",
       "      <th>caseOriginState_7</th>\n",
       "      <th>caseOriginState_10</th>\n",
       "      <th>caseOriginState_22</th>\n",
       "      <th>caseOriginState_26</th>\n",
       "      <th>caseOriginState_31</th>\n",
       "      <th>caseOriginState_49</th>\n",
       "      <th>caseOriginState_55</th>\n",
       "      <th>caseOriginState_56</th>\n",
       "    </tr>\n",
       "  </thead>\n",
       "  <tbody>\n",
       "    <tr>\n",
       "      <th>0</th>\n",
       "      <td>1</td>\n",
       "      <td>0</td>\n",
       "      <td>1</td>\n",
       "      <td>0</td>\n",
       "      <td>0</td>\n",
       "      <td>0</td>\n",
       "      <td>0</td>\n",
       "      <td>0</td>\n",
       "      <td>0</td>\n",
       "      <td>0</td>\n",
       "      <td>...</td>\n",
       "      <td>0</td>\n",
       "      <td>0</td>\n",
       "      <td>0</td>\n",
       "      <td>0</td>\n",
       "      <td>0</td>\n",
       "      <td>0</td>\n",
       "      <td>0</td>\n",
       "      <td>0</td>\n",
       "      <td>0</td>\n",
       "      <td>0</td>\n",
       "    </tr>\n",
       "    <tr>\n",
       "      <th>1</th>\n",
       "      <td>1</td>\n",
       "      <td>0</td>\n",
       "      <td>1</td>\n",
       "      <td>0</td>\n",
       "      <td>0</td>\n",
       "      <td>0</td>\n",
       "      <td>0</td>\n",
       "      <td>0</td>\n",
       "      <td>0</td>\n",
       "      <td>0</td>\n",
       "      <td>...</td>\n",
       "      <td>0</td>\n",
       "      <td>0</td>\n",
       "      <td>0</td>\n",
       "      <td>0</td>\n",
       "      <td>0</td>\n",
       "      <td>0</td>\n",
       "      <td>0</td>\n",
       "      <td>0</td>\n",
       "      <td>0</td>\n",
       "      <td>0</td>\n",
       "    </tr>\n",
       "    <tr>\n",
       "      <th>2</th>\n",
       "      <td>1</td>\n",
       "      <td>0</td>\n",
       "      <td>1</td>\n",
       "      <td>0</td>\n",
       "      <td>0</td>\n",
       "      <td>0</td>\n",
       "      <td>0</td>\n",
       "      <td>0</td>\n",
       "      <td>0</td>\n",
       "      <td>0</td>\n",
       "      <td>...</td>\n",
       "      <td>0</td>\n",
       "      <td>0</td>\n",
       "      <td>0</td>\n",
       "      <td>0</td>\n",
       "      <td>0</td>\n",
       "      <td>0</td>\n",
       "      <td>0</td>\n",
       "      <td>0</td>\n",
       "      <td>0</td>\n",
       "      <td>0</td>\n",
       "    </tr>\n",
       "    <tr>\n",
       "      <th>3</th>\n",
       "      <td>1</td>\n",
       "      <td>0</td>\n",
       "      <td>1</td>\n",
       "      <td>0</td>\n",
       "      <td>0</td>\n",
       "      <td>0</td>\n",
       "      <td>0</td>\n",
       "      <td>0</td>\n",
       "      <td>0</td>\n",
       "      <td>0</td>\n",
       "      <td>...</td>\n",
       "      <td>0</td>\n",
       "      <td>0</td>\n",
       "      <td>0</td>\n",
       "      <td>0</td>\n",
       "      <td>0</td>\n",
       "      <td>0</td>\n",
       "      <td>0</td>\n",
       "      <td>0</td>\n",
       "      <td>0</td>\n",
       "      <td>0</td>\n",
       "    </tr>\n",
       "    <tr>\n",
       "      <th>4</th>\n",
       "      <td>1</td>\n",
       "      <td>0</td>\n",
       "      <td>1</td>\n",
       "      <td>0</td>\n",
       "      <td>0</td>\n",
       "      <td>0</td>\n",
       "      <td>0</td>\n",
       "      <td>0</td>\n",
       "      <td>0</td>\n",
       "      <td>0</td>\n",
       "      <td>...</td>\n",
       "      <td>0</td>\n",
       "      <td>0</td>\n",
       "      <td>0</td>\n",
       "      <td>0</td>\n",
       "      <td>0</td>\n",
       "      <td>0</td>\n",
       "      <td>0</td>\n",
       "      <td>0</td>\n",
       "      <td>0</td>\n",
       "      <td>0</td>\n",
       "    </tr>\n",
       "  </tbody>\n",
       "</table>\n",
       "<p>5 rows × 33 columns</p>\n",
       "</div>"
      ],
      "text/plain": [
       "   term_2016  term_2017  precedentAlteration_0  precedentAlteration_1  \\\n",
       "0          1          0                      1                      0   \n",
       "1          1          0                      1                      0   \n",
       "2          1          0                      1                      0   \n",
       "3          1          0                      1                      0   \n",
       "4          1          0                      1                      0   \n",
       "\n",
       "   issueArea_1  issueArea_2  issueArea_3  issueArea_4  issueArea_5  \\\n",
       "0            0            0            0            0            0   \n",
       "1            0            0            0            0            0   \n",
       "2            0            0            0            0            0   \n",
       "3            0            0            0            0            0   \n",
       "4            0            0            0            0            0   \n",
       "\n",
       "   issueArea_6         ...          caseOriginState_5  caseOriginState_6  \\\n",
       "0            0         ...                          0                  0   \n",
       "1            0         ...                          0                  0   \n",
       "2            0         ...                          0                  0   \n",
       "3            0         ...                          0                  0   \n",
       "4            0         ...                          0                  0   \n",
       "\n",
       "   caseOriginState_7  caseOriginState_10  caseOriginState_22  \\\n",
       "0                  0                   0                   0   \n",
       "1                  0                   0                   0   \n",
       "2                  0                   0                   0   \n",
       "3                  0                   0                   0   \n",
       "4                  0                   0                   0   \n",
       "\n",
       "   caseOriginState_26  caseOriginState_31  caseOriginState_49  \\\n",
       "0                   0                   0                   0   \n",
       "1                   0                   0                   0   \n",
       "2                   0                   0                   0   \n",
       "3                   0                   0                   0   \n",
       "4                   0                   0                   0   \n",
       "\n",
       "   caseOriginState_55  caseOriginState_56  \n",
       "0                   0                   0  \n",
       "1                   0                   0  \n",
       "2                   0                   0  \n",
       "3                   0                   0  \n",
       "4                   0                   0  \n",
       "\n",
       "[5 rows x 33 columns]"
      ]
     },
     "execution_count": 6,
     "metadata": {},
     "output_type": "execute_result"
    }
   ],
   "source": [
    "oneHot_features = pd.concat([term_df, precAlt_df], axis=1)\n",
    "oneHot_features = pd.concat([oneHot_features, issueArea_df], axis=1)\n",
    "oneHot_features = pd.concat([oneHot_features, lawType_df], axis=1)\n",
    "oneHot_features = pd.concat([oneHot_features, caseOriginState_df], axis=1)\n",
    "oneHot_features.head()"
   ]
  },
  {
   "cell_type": "code",
   "execution_count": 7,
   "metadata": {},
   "outputs": [
    {
     "data": {
      "text/plain": [
       "array(['term_2016', 'term_2017', 'precedentAlteration_0',\n",
       "       'precedentAlteration_1', 'issueArea_1', 'issueArea_2',\n",
       "       'issueArea_3', 'issueArea_4', 'issueArea_5', 'issueArea_6',\n",
       "       'issueArea_7', 'issueArea_8', 'issueArea_9', 'issueArea_10',\n",
       "       'issueArea_12', 'issueArea_14', 'lawType_1', 'lawType_2',\n",
       "       'lawType_3', 'lawType_4', 'lawType_6', 'lawType_9',\n",
       "       'caseOriginState_0', 'caseOriginState_5', 'caseOriginState_6',\n",
       "       'caseOriginState_7', 'caseOriginState_10', 'caseOriginState_22',\n",
       "       'caseOriginState_26', 'caseOriginState_31', 'caseOriginState_49',\n",
       "       'caseOriginState_55', 'caseOriginState_56'], dtype=object)"
      ]
     },
     "execution_count": 7,
     "metadata": {},
     "output_type": "execute_result"
    }
   ],
   "source": [
    "X = oneHot_features\n",
    "feature_names = oneHot_features.columns\n",
    "y = target_115\n",
    "feature_names.ravel()"
   ]
  },
  {
   "cell_type": "markdown",
   "metadata": {},
   "source": [
    "### Evaluating different classifiers"
   ]
  },
  {
   "cell_type": "code",
   "execution_count": 8,
   "metadata": {},
   "outputs": [
    {
     "name": "stdout",
     "output_type": "stream",
     "text": [
      "5-fold cross validation:\n",
      "\n",
      "F1: 0.701 [Logistic Regression]\n",
      "F1: 0.716 [Random Forest]\n",
      "F1: 0.262 [Naive Bayes]\n",
      "F1: 0.731 [Linear SVM]\n"
     ]
    }
   ],
   "source": [
    "clf_lr = LogisticRegression(random_state=1)\n",
    "clf_rf = RandomForestClassifier(random_state=1, n_estimators=300)\n",
    "clf_nb = GaussianNB()\n",
    "clf_svm = SVC(kernel='linear', probability=True)\n",
    "\n",
    "print('5-fold cross validation:\\n')\n",
    "\n",
    "labels = [\"Logistic Regression\", \"Random Forest\", \"Naive Bayes\", \"Linear SVM\"]\n",
    "\n",
    "for clf, label in zip([clf_lr, clf_rf, clf_nb, clf_svm], labels):\n",
    "    scores = cross_val_score(clf, X, y, cv=5, \n",
    "                             scoring='f1', n_jobs=-1)\n",
    "    print(\"F1: %0.3f [%s]\" % (scores.mean(), label))"
   ]
  },
  {
   "cell_type": "code",
   "execution_count": 9,
   "metadata": {},
   "outputs": [],
   "source": [
    "# using all but naive bayes (since score was low) for voting classifier estimators\n",
    "v_clf_hard = VotingClassifier(estimators = [(labels[0], clf_lr),\n",
    "                                            (labels[1], clf_rf),\n",
    "                                            (labels[3], clf_svm)],\n",
    "                                            voting = 'hard')"
   ]
  },
  {
   "cell_type": "code",
   "execution_count": 10,
   "metadata": {},
   "outputs": [],
   "source": [
    "v_clf_soft = VotingClassifier(estimators = [(labels[0], clf_lr),\n",
    "                                            (labels[1], clf_rf),\n",
    "                                            (labels[3], clf_svm)],\n",
    "                                            voting = 'soft')"
   ]
  },
  {
   "cell_type": "code",
   "execution_count": 11,
   "metadata": {},
   "outputs": [
    {
     "name": "stdout",
     "output_type": "stream",
     "text": [
      "F1: 0.701 [Logistic Regression]\n",
      "F1: 0.716 [Random Forest]\n",
      "F1: 0.731 [Linear SVM]\n",
      "F1: 0.731 [Voting_Classifier_Hard]\n",
      "F1: 0.734 [Voting_Classifier_Soft]\n"
     ]
    }
   ],
   "source": [
    "new_labels = [\"Logistic Regression\", \"Random Forest\", \"Linear SVM\", \n",
    "              \"Voting_Classifier_Hard\", \"Voting_Classifier_Soft\"]\n",
    "\n",
    "for (clf, label) in zip([clf_lr, clf_rf, clf_svm, v_clf_hard, v_clf_soft], new_labels):\n",
    "    scores = cross_val_score(clf, X, y,cv=5,\n",
    "                             scoring='f1', n_jobs=-1)\n",
    "    print(\"F1: %0.3f [%s]\" % (scores.mean(), label))"
   ]
  },
  {
   "cell_type": "markdown",
   "metadata": {},
   "source": [
    "### SVM Model Training"
   ]
  },
  {
   "cell_type": "code",
   "execution_count": 12,
   "metadata": {},
   "outputs": [],
   "source": [
    "X_train, X_test, y_train, y_test = train_test_split(X, y, test_size=0.2, random_state=42)"
   ]
  },
  {
   "cell_type": "code",
   "execution_count": 13,
   "metadata": {},
   "outputs": [
    {
     "data": {
      "text/plain": [
       "SVC(C=1.0, cache_size=200, class_weight=None, coef0=0.0,\n",
       "  decision_function_shape='ovr', degree=3, gamma='auto_deprecated',\n",
       "  kernel='linear', max_iter=-1, probability=False, random_state=None,\n",
       "  shrinking=True, tol=0.001, verbose=False)"
      ]
     },
     "execution_count": 13,
     "metadata": {},
     "output_type": "execute_result"
    }
   ],
   "source": [
    "model = SVC(kernel='linear')\n",
    "model.fit(X_train, y_train)"
   ]
  },
  {
   "cell_type": "code",
   "execution_count": 14,
   "metadata": {},
   "outputs": [
    {
     "name": "stdout",
     "output_type": "stream",
     "text": [
      "Train Acc: 0.769\n",
      "Test Acc: 0.588\n"
     ]
    }
   ],
   "source": [
    "# Model Accuracy\n",
    "print('Train Acc: %.3f' % model.score(X_train, y_train))\n",
    "print('Test Acc: %.3f' % model.score(X_test, y_test))"
   ]
  },
  {
   "cell_type": "code",
   "execution_count": 15,
   "metadata": {},
   "outputs": [
    {
     "name": "stdout",
     "output_type": "stream",
     "text": [
      "              precision    recall  f1-score   support\n",
      "\n",
      "conservative       0.56      1.00      0.72         9\n",
      "     liberal       1.00      0.12      0.22         8\n",
      "\n",
      "   micro avg       0.59      0.59      0.59        17\n",
      "   macro avg       0.78      0.56      0.47        17\n",
      "weighted avg       0.77      0.59      0.49        17\n",
      "\n"
     ]
    }
   ],
   "source": [
    "predictions = model.predict(X_test)\n",
    "print(classification_report(y_test, predictions,\n",
    "                            target_names=target_names))"
   ]
  },
  {
   "cell_type": "code",
   "execution_count": 16,
   "metadata": {},
   "outputs": [
    {
     "data": {
      "text/plain": [
       "(array([1, 1, 1, 1, 1, 1, 1, 1, 1, 1, 1, 1, 1, 1, 1, 1, 2], dtype=int64),\n",
       " array([2, 1, 1, 2, 1, 2, 1, 1, 1, 2, 1, 2, 2, 1, 1, 2, 2], dtype=int64))"
      ]
     },
     "execution_count": 16,
     "metadata": {},
     "output_type": "execute_result"
    }
   ],
   "source": [
    "confusion_matrix(predictions, y_test)\n",
    "predictions[:20], y_test[:20].ravel()"
   ]
  },
  {
   "cell_type": "code",
   "execution_count": null,
   "metadata": {},
   "outputs": [],
   "source": []
  }
 ],
 "metadata": {
  "kernelspec": {
   "display_name": "Python 3",
   "language": "python",
   "name": "python3"
  },
  "language_info": {
   "codemirror_mode": {
    "name": "ipython",
    "version": 3
   },
   "file_extension": ".py",
   "mimetype": "text/x-python",
   "name": "python",
   "nbconvert_exporter": "python",
   "pygments_lexer": "ipython3",
   "version": "3.7.1"
  }
 },
 "nbformat": 4,
 "nbformat_minor": 2
}
