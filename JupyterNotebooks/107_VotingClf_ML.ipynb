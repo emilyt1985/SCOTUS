{
 "cells": [
  {
   "cell_type": "code",
   "execution_count": 1,
   "metadata": {},
   "outputs": [],
   "source": [
    "# import dependencies\n",
    "import pandas as pd\n",
    "import numpy as np\n",
    "import warnings\n",
    "from sklearn.preprocessing import StandardScaler\n",
    "from sklearn.model_selection import cross_val_score\n",
    "from sklearn.model_selection import train_test_split\n",
    "from sklearn.ensemble import RandomForestClassifier\n",
    "from sklearn.ensemble import VotingClassifier\n",
    "from sklearn.linear_model import LogisticRegression\n",
    "from sklearn.naive_bayes import GaussianNB\n",
    "from sklearn.svm import SVC\n",
    "from sklearn.metrics import classification_report\n",
    "from sklearn.metrics import confusion_matrix\n",
    "\n",
    "warnings.filterwarnings(\"ignore\")"
   ]
  },
  {
   "cell_type": "markdown",
   "metadata": {},
   "source": [
    "### Pre-processing"
   ]
  },
  {
   "cell_type": "code",
   "execution_count": 2,
   "metadata": {},
   "outputs": [
    {
     "data": {
      "text/html": [
       "<div>\n",
       "<style scoped>\n",
       "    .dataframe tbody tr th:only-of-type {\n",
       "        vertical-align: middle;\n",
       "    }\n",
       "\n",
       "    .dataframe tbody tr th {\n",
       "        vertical-align: top;\n",
       "    }\n",
       "\n",
       "    .dataframe thead th {\n",
       "        text-align: right;\n",
       "    }\n",
       "</style>\n",
       "<table border=\"1\" class=\"dataframe\">\n",
       "  <thead>\n",
       "    <tr style=\"text-align: right;\">\n",
       "      <th></th>\n",
       "      <th>justice</th>\n",
       "      <th>term</th>\n",
       "      <th>direction</th>\n",
       "      <th>precedentAlteration</th>\n",
       "      <th>issueArea</th>\n",
       "      <th>lawType</th>\n",
       "      <th>caseOriginState</th>\n",
       "    </tr>\n",
       "  </thead>\n",
       "  <tbody>\n",
       "    <tr>\n",
       "      <th>1685</th>\n",
       "      <td>107</td>\n",
       "      <td>2008</td>\n",
       "      <td>2</td>\n",
       "      <td>0</td>\n",
       "      <td>1</td>\n",
       "      <td>2</td>\n",
       "      <td>0</td>\n",
       "    </tr>\n",
       "    <tr>\n",
       "      <th>1686</th>\n",
       "      <td>107</td>\n",
       "      <td>2008</td>\n",
       "      <td>2</td>\n",
       "      <td>0</td>\n",
       "      <td>8</td>\n",
       "      <td>3</td>\n",
       "      <td>0</td>\n",
       "    </tr>\n",
       "    <tr>\n",
       "      <th>1687</th>\n",
       "      <td>107</td>\n",
       "      <td>2008</td>\n",
       "      <td>2</td>\n",
       "      <td>0</td>\n",
       "      <td>2</td>\n",
       "      <td>4</td>\n",
       "      <td>0</td>\n",
       "    </tr>\n",
       "    <tr>\n",
       "      <th>1688</th>\n",
       "      <td>107</td>\n",
       "      <td>2008</td>\n",
       "      <td>1</td>\n",
       "      <td>0</td>\n",
       "      <td>10</td>\n",
       "      <td>6</td>\n",
       "      <td>0</td>\n",
       "    </tr>\n",
       "    <tr>\n",
       "      <th>1689</th>\n",
       "      <td>107</td>\n",
       "      <td>2008</td>\n",
       "      <td>2</td>\n",
       "      <td>0</td>\n",
       "      <td>2</td>\n",
       "      <td>3</td>\n",
       "      <td>0</td>\n",
       "    </tr>\n",
       "  </tbody>\n",
       "</table>\n",
       "</div>"
      ],
      "text/plain": [
       "      justice  term  direction  precedentAlteration  issueArea  lawType  \\\n",
       "1685      107  2008          2                    0          1        2   \n",
       "1686      107  2008          2                    0          8        3   \n",
       "1687      107  2008          2                    0          2        4   \n",
       "1688      107  2008          1                    0         10        6   \n",
       "1689      107  2008          2                    0          2        3   \n",
       "\n",
       "      caseOriginState  \n",
       "1685                0  \n",
       "1686                0  \n",
       "1687                0  \n",
       "1688                0  \n",
       "1689                0  "
      ]
     },
     "execution_count": 2,
     "metadata": {},
     "output_type": "execute_result"
    }
   ],
   "source": [
    "df_107 = pd.read_csv((\"../Resources/107justice.csv\"))\n",
    "df_107.tail()"
   ]
  },
  {
   "cell_type": "code",
   "execution_count": 3,
   "metadata": {},
   "outputs": [],
   "source": [
    "# df_107[\"direction\"] = np.where(df_106[\"direction\"] == 1, 0, 1)\n",
    "# df_107.tail(5)\n",
    "# # df_107.count()"
   ]
  },
  {
   "cell_type": "code",
   "execution_count": 4,
   "metadata": {},
   "outputs": [],
   "source": [
    "target_107 = df_107[\"direction\"]\n",
    "target_names = [\"conservative\", \"liberal\"]"
   ]
  },
  {
   "cell_type": "code",
   "execution_count": 5,
   "metadata": {},
   "outputs": [
    {
     "data": {
      "text/html": [
       "<div>\n",
       "<style scoped>\n",
       "    .dataframe tbody tr th:only-of-type {\n",
       "        vertical-align: middle;\n",
       "    }\n",
       "\n",
       "    .dataframe tbody tr th {\n",
       "        vertical-align: top;\n",
       "    }\n",
       "\n",
       "    .dataframe thead th {\n",
       "        text-align: right;\n",
       "    }\n",
       "</style>\n",
       "<table border=\"1\" class=\"dataframe\">\n",
       "  <thead>\n",
       "    <tr style=\"text-align: right;\">\n",
       "      <th></th>\n",
       "      <th>term</th>\n",
       "      <th>precedentAlteration</th>\n",
       "      <th>issueArea</th>\n",
       "      <th>lawType</th>\n",
       "      <th>caseOriginState</th>\n",
       "    </tr>\n",
       "  </thead>\n",
       "  <tbody>\n",
       "    <tr>\n",
       "      <th>0</th>\n",
       "      <td>1990</td>\n",
       "      <td>0</td>\n",
       "      <td>9</td>\n",
       "      <td>4</td>\n",
       "      <td>0</td>\n",
       "    </tr>\n",
       "    <tr>\n",
       "      <th>1</th>\n",
       "      <td>1990</td>\n",
       "      <td>0</td>\n",
       "      <td>10</td>\n",
       "      <td>0</td>\n",
       "      <td>0</td>\n",
       "    </tr>\n",
       "    <tr>\n",
       "      <th>2</th>\n",
       "      <td>1990</td>\n",
       "      <td>0</td>\n",
       "      <td>10</td>\n",
       "      <td>0</td>\n",
       "      <td>0</td>\n",
       "    </tr>\n",
       "    <tr>\n",
       "      <th>3</th>\n",
       "      <td>1990</td>\n",
       "      <td>0</td>\n",
       "      <td>1</td>\n",
       "      <td>2</td>\n",
       "      <td>22</td>\n",
       "    </tr>\n",
       "    <tr>\n",
       "      <th>4</th>\n",
       "      <td>1990</td>\n",
       "      <td>0</td>\n",
       "      <td>1</td>\n",
       "      <td>2</td>\n",
       "      <td>0</td>\n",
       "    </tr>\n",
       "  </tbody>\n",
       "</table>\n",
       "</div>"
      ],
      "text/plain": [
       "   term  precedentAlteration  issueArea  lawType  caseOriginState\n",
       "0  1990                    0          9        4                0\n",
       "1  1990                    0         10        0                0\n",
       "2  1990                    0         10        0                0\n",
       "3  1990                    0          1        2               22\n",
       "4  1990                    0          1        2                0"
      ]
     },
     "execution_count": 5,
     "metadata": {},
     "output_type": "execute_result"
    }
   ],
   "source": [
    "data_107 = df_107.drop([\"direction\", \"justice\"], axis=1)\n",
    "feature_names = data_107.columns\n",
    "data_107.head()"
   ]
  },
  {
   "cell_type": "code",
   "execution_count": 6,
   "metadata": {},
   "outputs": [],
   "source": [
    "X_scaler = StandardScaler().fit(data_107)\n",
    "X_scaled = X_scaler.transform(data_107)\n",
    "\n",
    "X = X_scaled\n",
    "y = target_107"
   ]
  },
  {
   "cell_type": "markdown",
   "metadata": {},
   "source": [
    "### Evaluating different classifiers"
   ]
  },
  {
   "cell_type": "code",
   "execution_count": 7,
   "metadata": {},
   "outputs": [
    {
     "name": "stdout",
     "output_type": "stream",
     "text": [
      "5-fold cross validation:\n",
      "\n",
      "F1: 0.141 [Logistic Regression]\n",
      "F1: 0.277 [Random Forest]\n",
      "F1: 0.247 [Naive Bayes]\n",
      "F1: 0.000 [Linear SVM]\n"
     ]
    }
   ],
   "source": [
    "clf1 = LogisticRegression(random_state=1)\n",
    "clf2 = RandomForestClassifier(random_state=1, n_estimators=300)\n",
    "clf3 = GaussianNB()\n",
    "clf4 = SVC(kernel='linear', probability=True)\n",
    "\n",
    "print('5-fold cross validation:\\n')\n",
    "\n",
    "labels = [\"Logistic Regression\", \"Random Forest\", \"Naive Bayes\", \"Linear SVM\"]\n",
    "\n",
    "for clf, label in zip([clf1, clf2, clf3, clf4], labels):\n",
    "    scores = cross_val_score(clf, X, y, cv=5, \n",
    "                             scoring='f1', n_jobs=-1)\n",
    "    print(\"F1: %0.3f [%s]\" % (scores.mean(), label))\n"
   ]
  },
  {
   "cell_type": "code",
   "execution_count": 8,
   "metadata": {},
   "outputs": [],
   "source": [
    "# take out low-scoring classifiers as voting classifier estimators\n",
    "v_clf_hard = VotingClassifier(estimators = [(labels[2], clf3),\n",
    "                                            (labels[3], clf4)],\n",
    "                                            voting = 'hard')"
   ]
  },
  {
   "cell_type": "code",
   "execution_count": 9,
   "metadata": {},
   "outputs": [],
   "source": [
    "v_clf_soft = VotingClassifier(estimators = [(labels[2], clf3),\n",
    "                                            (labels[3], clf4)],\n",
    "                                            voting = 'soft')"
   ]
  },
  {
   "cell_type": "code",
   "execution_count": 10,
   "metadata": {
    "scrolled": false
   },
   "outputs": [
    {
     "name": "stdout",
     "output_type": "stream",
     "text": [
      "F1: 0.277 [Random Forest]\n",
      "F1: 0.247 [Naive Bayes]\n",
      "F1: 0.247 [Voting_Classifier_Hard]\n",
      "F1: 0.122 [Voting_Classifier_Soft]\n"
     ]
    }
   ],
   "source": [
    "new_labels = [\"Random Forest\", \"Naive Bayes\", \n",
    "              \"Voting_Classifier_Hard\", \"Voting_Classifier_Soft\"]\n",
    "\n",
    "for (clf, label) in zip([clf2, clf3, v_clf_hard, v_clf_soft], new_labels):\n",
    "    scores = cross_val_score(clf, X, y,cv=5,\n",
    "                             scoring='f1', n_jobs=-1)\n",
    "    print(\"F1: %0.3f [%s]\" % (scores.mean(), label))"
   ]
  },
  {
   "cell_type": "markdown",
   "metadata": {},
   "source": [
    "## F1 Scores are too low\n",
    "\n",
    "### Naive Bayes Model Training Below as example"
   ]
  },
  {
   "cell_type": "code",
   "execution_count": 11,
   "metadata": {},
   "outputs": [],
   "source": [
    "X_train, X_test, y_train, y_test = train_test_split(X, y, random_state=42)"
   ]
  },
  {
   "cell_type": "code",
   "execution_count": 12,
   "metadata": {},
   "outputs": [
    {
     "data": {
      "text/plain": [
       "GaussianNB(priors=None, var_smoothing=1e-09)"
      ]
     },
     "execution_count": 12,
     "metadata": {},
     "output_type": "execute_result"
    }
   ],
   "source": [
    "model = GaussianNB()\n",
    "model.fit(X_train, y_train)"
   ]
  },
  {
   "cell_type": "code",
   "execution_count": 13,
   "metadata": {},
   "outputs": [
    {
     "name": "stdout",
     "output_type": "stream",
     "text": [
      "Train Acc: 0.555\n",
      "Test Acc: 0.496\n"
     ]
    }
   ],
   "source": [
    "# Model Accuracy\n",
    "print('Train Acc: %.3f' % model.score(X_train, y_train))\n",
    "print('Test Acc: %.3f' % model.score(X_test, y_test))"
   ]
  },
  {
   "cell_type": "code",
   "execution_count": 14,
   "metadata": {},
   "outputs": [
    {
     "name": "stdout",
     "output_type": "stream",
     "text": [
      "              precision    recall  f1-score   support\n",
      "\n",
      "conservative       0.40      0.60      0.48       163\n",
      "     liberal       0.63      0.43      0.51       260\n",
      "\n",
      "   micro avg       0.50      0.50      0.50       423\n",
      "   macro avg       0.51      0.51      0.50       423\n",
      "weighted avg       0.54      0.50      0.50       423\n",
      "\n"
     ]
    }
   ],
   "source": [
    "predictions = model.predict(X_test)\n",
    "print(classification_report(y_test, predictions,\n",
    "                            target_names=target_names))"
   ]
  },
  {
   "cell_type": "code",
   "execution_count": 15,
   "metadata": {},
   "outputs": [
    {
     "data": {
      "text/plain": [
       "(array([2, 2, 2, 2, 1, 1, 2, 2, 2, 2], dtype=int64),\n",
       " array([1, 2, 2, 1, 2, 1, 2, 2, 1, 1], dtype=int64))"
      ]
     },
     "execution_count": 15,
     "metadata": {},
     "output_type": "execute_result"
    }
   ],
   "source": [
    "confusion_matrix(predictions, y_test)\n",
    "predictions[:10], y_test[:10].ravel()"
   ]
  },
  {
   "cell_type": "code",
   "execution_count": null,
   "metadata": {},
   "outputs": [],
   "source": []
  }
 ],
 "metadata": {
  "kernelspec": {
   "display_name": "Python 3",
   "language": "python",
   "name": "python3"
  },
  "language_info": {
   "codemirror_mode": {
    "name": "ipython",
    "version": 3
   },
   "file_extension": ".py",
   "mimetype": "text/x-python",
   "name": "python",
   "nbconvert_exporter": "python",
   "pygments_lexer": "ipython3",
   "version": "3.6.7"
  }
 },
 "nbformat": 4,
 "nbformat_minor": 2
}
