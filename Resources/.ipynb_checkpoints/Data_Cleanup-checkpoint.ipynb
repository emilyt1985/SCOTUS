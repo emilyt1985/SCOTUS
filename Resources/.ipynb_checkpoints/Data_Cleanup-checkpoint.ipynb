{
 "cells": [
  {
   "cell_type": "code",
   "execution_count": 33,
   "metadata": {},
   "outputs": [],
   "source": [
    "import pandas as pd\n",
    "import numpy as np"
   ]
  },
  {
   "cell_type": "code",
   "execution_count": 34,
   "metadata": {},
   "outputs": [],
   "source": [
    "csv_file = \"SCDB_2018_02_justiceCentered_Citation.csv\"\n",
    "csv_file2 = \"appointment_party.csv\""
   ]
  },
  {
   "cell_type": "code",
   "execution_count": 35,
   "metadata": {},
   "outputs": [],
   "source": [
    "#  Read CVS\n",
    "scotus = pd.read_csv(csv_file, encoding = \"latin1\")"
   ]
  },
  {
   "cell_type": "code",
   "execution_count": 36,
   "metadata": {},
   "outputs": [],
   "source": [
    "# Select columns\n",
    "vote_df = scotus[[\"justice\", \"caseId\", \"term\", \"majVotes\", \"minVotes\", \"decisionDirection\", \"direction\", \"majority\", \"partyWinning\", \"precedentAlteration\", \"vote\", \"issueArea\"]]"
   ]
  },
  {
   "cell_type": "code",
   "execution_count": 37,
   "metadata": {},
   "outputs": [],
   "source": [
    "# Drop NA from decision and issue area\n",
    "votes = vote_df.dropna(axis=0, subset=['issueArea', 'direction'])"
   ]
  },
  {
   "cell_type": "code",
   "execution_count": 38,
   "metadata": {},
   "outputs": [],
   "source": [
    "# Fill the remaining NA values with zero\n",
    "votes_df = votes.fillna(0)"
   ]
  },
  {
   "cell_type": "code",
   "execution_count": 39,
   "metadata": {},
   "outputs": [],
   "source": [
    "#Set the data type to int for floats\n",
    "votes_df = votes_df.astype({\"decisionDirection\": int, \"direction\": int, \"majority\": int, \"partyWinning\": int, \"precedentAlteration\": int, \"vote\": int, \"decisionDirection\": int, \"issueArea\": int})"
   ]
  },
  {
   "cell_type": "code",
   "execution_count": 40,
   "metadata": {},
   "outputs": [
    {
     "data": {
      "text/plain": [
       "[106, 107, 108, 109, 110, 111, 112, 113, 114, 115]"
      ]
     },
     "execution_count": 40,
     "metadata": {},
     "output_type": "execute_result"
    }
   ],
   "source": [
    "# Assign values for desired justices to train model\n",
    "justice_numbers = [x for x in range(106, 116)]\n",
    "justice_numbers"
   ]
  },
  {
   "cell_type": "code",
   "execution_count": 41,
   "metadata": {},
   "outputs": [],
   "source": [
    "# Export CSVs for each justice's voting record\n",
    "for justice in justice_numbers:\n",
    "    sample = votes_df.query(f\"justice == {justice}\")\n",
    "    sample.to_csv(f\"./{justice}justice.csv\", index=False)"
   ]
  },
  {
   "cell_type": "code",
   "execution_count": 42,
   "metadata": {},
   "outputs": [],
   "source": [
    "# ct = cThomas.query(\"majority == 1 & decisionDirection == 2\").index\n",
    "# second = cThomas.query(\"majority == 1 & decisionDirection == 1\").index\n",
    "# third = cThomas.query(\"majority == 2 & decisionDirection == 1\").index\n",
    "# fourth = cThomas.query(\"majority == 2 & decisionDirection == 2\").index\n",
    "# fifth = cThomas.query(\"decisionDirection == 3\").index"
   ]
  },
  {
   "cell_type": "code",
   "execution_count": 43,
   "metadata": {},
   "outputs": [],
   "source": [
    "# cThomas.loc[first, \"vote_direction\"] = 1\n",
    "# cThomas.loc[second, \"vote_direction\"] = 2\n",
    "# cThomas.loc[third, \"vote_direction\"] = 1\n",
    "# cThomas.loc[fourth, \"vote_direction\"] = 2\n",
    "# vote.loc[fifth, \"vote_direction\"] = 3\n",
    "# cThomas.head(25)"
   ]
  },
  {
   "cell_type": "code",
   "execution_count": 46,
   "metadata": {},
   "outputs": [],
   "source": [
    "# party = pd.read_csv(csv_file2)\n",
    "# party.set_index(\"Justice\", inplace = True)\n",
    "# party.head()"
   ]
  },
  {
   "cell_type": "code",
   "execution_count": 51,
   "metadata": {},
   "outputs": [
    {
     "data": {
      "text/plain": [
       "['1953-069',\n",
       " '1962-058',\n",
       " '1987-019',\n",
       " '1960-133',\n",
       " '1965-122',\n",
       " '1984-022',\n",
       " '1977-147',\n",
       " '1972-048',\n",
       " '1988-124',\n",
       " '1968-043',\n",
       " '1973-172']"
      ]
     },
     "execution_count": 51,
     "metadata": {},
     "output_type": "execute_result"
    }
   ],
   "source": [
    "case_numbers = [\"1953-069\",\"1962-058\",\"1987-019\",\"1960-133\",\"1965-122\",\"1984-022\",\"1977-147\",\"1972-048\",\"1988-124\",\"1968-043\",\"1973-172\"]\n",
    "case_numbers"
   ]
  },
  {
   "cell_type": "code",
   "execution_count": 55,
   "metadata": {},
   "outputs": [
    {
     "ename": "SyntaxError",
     "evalue": "invalid syntax (<ipython-input-55-08ff60ff8405>, line 2)",
     "output_type": "error",
     "traceback": [
      "\u001b[1;36m  File \u001b[1;32m\"<ipython-input-55-08ff60ff8405>\"\u001b[1;36m, line \u001b[1;32m2\u001b[0m\n\u001b[1;33m    main = votes_df.query(f\"caseId == \"{case}\"\")\u001b[0m\n\u001b[1;37m                                       ^\u001b[0m\n\u001b[1;31mSyntaxError\u001b[0m\u001b[1;31m:\u001b[0m invalid syntax\n"
     ]
    }
   ],
   "source": [
    "for case in case_numbers:\n",
    "    main = votes_df.query(f\"caseId == \"{case}\"\")\n",
    "    main.to_csv(f\"./{case}case.csv\", index=False)"
   ]
  },
  {
   "cell_type": "code",
   "execution_count": null,
   "metadata": {},
   "outputs": [],
   "source": []
  }
 ],
 "metadata": {
  "kernelspec": {
   "display_name": "Python 3",
   "language": "python",
   "name": "python3"
  },
  "language_info": {
   "codemirror_mode": {
    "name": "ipython",
    "version": 3
   },
   "file_extension": ".py",
   "mimetype": "text/x-python",
   "name": "python",
   "nbconvert_exporter": "python",
   "pygments_lexer": "ipython3",
   "version": "3.7.1"
  }
 },
 "nbformat": 4,
 "nbformat_minor": 2
}
